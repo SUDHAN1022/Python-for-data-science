{
  "nbformat": 4,
  "nbformat_minor": 0,
  "metadata": {
    "colab": {
      "provenance": [],
      "authorship_tag": "ABX9TyNpJqApYD10jOXkWAAcEnpc",
      "include_colab_link": true
    },
    "kernelspec": {
      "name": "python3",
      "display_name": "Python 3"
    },
    "language_info": {
      "name": "python"
    }
  },
  "cells": [
    {
      "cell_type": "markdown",
      "metadata": {
        "id": "view-in-github",
        "colab_type": "text"
      },
      "source": [
        "<a href=\"https://colab.research.google.com/github/SUDHAN1022/Python-for-data-science/blob/main/Binary_Search.ipynb\" target=\"_parent\"><img src=\"https://colab.research.google.com/assets/colab-badge.svg\" alt=\"Open In Colab\"/></a>"
      ]
    },
    {
      "cell_type": "code",
      "execution_count": 2,
      "metadata": {
        "colab": {
          "base_uri": "https://localhost:8080/"
        },
        "id": "n2fe58h1WBhM",
        "outputId": "f4c69249-04af-4594-88ae-6c17d58ff597"
      },
      "outputs": [
        {
          "output_type": "stream",
          "name": "stdout",
          "text": [
            "Number found at index 4 using linear search\n"
          ]
        }
      ],
      "source": [
        "def linearsearch(numbers_list,number_to_find):\n",
        "  for index,element in enumerate(numbers_list):\n",
        "    if element==number_to_find:\n",
        "      return index\n",
        "\n",
        "  return -1\n",
        "\n",
        "\n",
        "\n",
        "if __name__==\"__main__\":\n",
        "  numbers_list=[17,19,21,24,45,67]\n",
        "  number_to_find=45\n",
        "\n",
        "  index=linearsearch(numbers_list,number_to_find)\n",
        "\n",
        "  print(f\"Number found at index {index} using linear search\")\n",
        "\n"
      ]
    }
  ]
}