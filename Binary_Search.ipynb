{
  "nbformat": 4,
  "nbformat_minor": 0,
  "metadata": {
    "colab": {
      "provenance": [],
      "authorship_tag": "ABX9TyOEYQBE/L2MfBVYNl0iehs+",
      "include_colab_link": true
    },
    "kernelspec": {
      "name": "python3",
      "display_name": "Python 3"
    },
    "language_info": {
      "name": "python"
    }
  },
  "cells": [
    {
      "cell_type": "markdown",
      "metadata": {
        "id": "view-in-github",
        "colab_type": "text"
      },
      "source": [
        "<a href=\"https://colab.research.google.com/github/SUDHAN1022/Python-for-data-science/blob/main/Binary_Search.ipynb\" target=\"_parent\"><img src=\"https://colab.research.google.com/assets/colab-badge.svg\" alt=\"Open In Colab\"/></a>"
      ]
    },
    {
      "cell_type": "code",
      "execution_count": 20,
      "metadata": {
        "id": "n2fe58h1WBhM",
        "colab": {
          "base_uri": "https://localhost:8080/"
        },
        "outputId": "7676457e-956b-4ed3-8954-fe4b17964ae0"
      },
      "outputs": [
        {
          "output_type": "stream",
          "name": "stdout",
          "text": [
            "Number found at index 2 using Binary search Recursive\n"
          ]
        }
      ],
      "source": [
        "def linearsearch(numbers_list,number_to_find):\n",
        "  for index,element in enumerate(numbers_list):\n",
        "    if element==number_to_find:\n",
        "      return index\n",
        "\n",
        "  return -1\n",
        "\n",
        "def binary_search(numbers_list,number_to_find):\n",
        "  left_index=0\n",
        "  right_index=len(numbers_list) -1\n",
        "  mid_index=0\n",
        "\n",
        "  while left_index <= right_index :\n",
        "    mid_index=(left_index+right_index)//2\n",
        "    mid_num=numbers_list[mid_index]\n",
        "\n",
        "    if mid_num==number_to_find:\n",
        "      return mid_index\n",
        "\n",
        "    if mid_num < number_to_find:\n",
        "      left_index=mid_index + 1\n",
        "\n",
        "    if mid_num > number_to_find:\n",
        "      right_index=mid_index -1\n",
        "\n",
        "  return -1\n",
        "\n",
        "\n",
        "def binary_search_recursive(numbers_list,number_to_find,left_index,right_index):\n",
        "  if right_index < left_index:\n",
        "    return -1\n",
        "\n",
        "  mid_index=(left_index+right_index)//2\n",
        "  mid_num=numbers_list[mid_index]\n",
        "\n",
        "  if mid_num==number_to_find:\n",
        "    return mid_index\n",
        "\n",
        "  if mid_num < number_to_find:\n",
        "    left_index=mid_index + 1\n",
        "\n",
        "  else:\n",
        "    right_index=mid_index - 1\n",
        "\n",
        "  return binary_search_recursive(numbers_list,number_to_find,left_index,right_index)\n",
        "\n",
        "\n",
        "\n",
        "if __name__==\"__main__\":\n",
        "  numbers_list=[17,19,21,24,32,45,67,73]\n",
        "  number_to_find=21\n",
        "\n",
        "  index=binary_search_recursive(numbers_list,number_to_find,0,len(numbers_list))\n",
        "\n",
        "  print(f\"Number found at index {index} using Binary search Recursive\")"
      ]
    },
    {
      "cell_type": "code",
      "source": [
        "  numbers_list=[17,19,21,24,32,45,67,73]\n",
        "  print(len(numbers_list))"
      ],
      "metadata": {
        "colab": {
          "base_uri": "https://localhost:8080/"
        },
        "id": "Pd8HHbjdrnjc",
        "outputId": "682fd13e-d3cd-42af-a025-9160a81bf9e9"
      },
      "execution_count": null,
      "outputs": [
        {
          "output_type": "stream",
          "name": "stdout",
          "text": [
            "8\n"
          ]
        }
      ]
    }
  ]
}