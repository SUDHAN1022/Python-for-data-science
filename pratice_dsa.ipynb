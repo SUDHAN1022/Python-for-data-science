{
  "nbformat": 4,
  "nbformat_minor": 0,
  "metadata": {
    "colab": {
      "provenance": [],
      "authorship_tag": "ABX9TyPsTkF1k3kt8w98I1ej5uCW",
      "include_colab_link": true
    },
    "kernelspec": {
      "name": "python3",
      "display_name": "Python 3"
    },
    "language_info": {
      "name": "python"
    }
  },
  "cells": [
    {
      "cell_type": "markdown",
      "metadata": {
        "id": "view-in-github",
        "colab_type": "text"
      },
      "source": [
        "<a href=\"https://colab.research.google.com/github/SUDHAN1022/Python-for-data-science/blob/main/pratice_dsa.ipynb\" target=\"_parent\"><img src=\"https://colab.research.google.com/assets/colab-badge.svg\" alt=\"Open In Colab\"/></a>"
      ]
    },
    {
      "cell_type": "markdown",
      "source": [
        "# **Hash table**"
      ],
      "metadata": {
        "id": "oR-plzTqKBvO"
      }
    },
    {
      "cell_type": "code",
      "execution_count": null,
      "metadata": {
        "id": "cn9-vwCPJ6vm"
      },
      "outputs": [],
      "source": [
        "#def get_hash(key):\n",
        "  #h=0\n",
        "  #for char in key:\n",
        "   # h=h+ord(char)\n",
        "  #return h%100"
      ]
    },
    {
      "cell_type": "code",
      "source": [
        "class hashtable:\n",
        "  def __init__(self) -> None:\n",
        "    self.MAX=100\n",
        "    self.arr=[None for i in range(self.MAX)]\n",
        "\n",
        "  def get_hash(self,key):\n",
        "    h=0\n",
        "    for char in key:\n",
        "      h+=ord(char)\n",
        "    return h%100\n",
        "\n",
        "  def __setitem__(self,key,val):\n",
        "    h=self.get_hash(key)\n",
        "    self.arr[h]=val\n",
        "\n",
        "  def __getitem__(self,key):\n",
        "    h=self.get_hash(key)\n",
        "    return self.arr[h]\n",
        "\n",
        "  def __delitem__(self,key):\n",
        "    h=self.get_hash(key)\n",
        "    self.arr[h]=None"
      ],
      "metadata": {
        "id": "wYjQ8FDPNJ7N"
      },
      "execution_count": null,
      "outputs": []
    },
    {
      "cell_type": "code",
      "source": [
        "t=hashtable()\n",
        "t[\"march 6\"]=130\n",
        "t[\"march 9\"]=30\n",
        "t[\"march 15\"]=10"
      ],
      "metadata": {
        "id": "3XCVtZAQOXzI"
      },
      "execution_count": null,
      "outputs": []
    },
    {
      "cell_type": "code",
      "source": [
        "del t[\"march 9\"]"
      ],
      "metadata": {
        "id": "zSJQV9r3TSg1"
      },
      "execution_count": null,
      "outputs": []
    },
    {
      "cell_type": "code",
      "source": [
        "t.arr"
      ],
      "metadata": {
        "colab": {
          "base_uri": "https://localhost:8080/"
        },
        "id": "UuGx-LRVRYoe",
        "outputId": "6f5e8f3a-c1bd-4f12-e213-ea4a95eaf5fe"
      },
      "execution_count": null,
      "outputs": [
        {
          "output_type": "execute_result",
          "data": {
            "text/plain": [
              "[None,\n",
              " None,\n",
              " None,\n",
              " None,\n",
              " None,\n",
              " None,\n",
              " None,\n",
              " None,\n",
              " None,\n",
              " 130,\n",
              " None,\n",
              " None,\n",
              " None,\n",
              " None,\n",
              " None,\n",
              " None,\n",
              " None,\n",
              " None,\n",
              " None,\n",
              " None,\n",
              " None,\n",
              " None,\n",
              " None,\n",
              " None,\n",
              " None,\n",
              " None,\n",
              " None,\n",
              " None,\n",
              " None,\n",
              " None,\n",
              " None,\n",
              " None,\n",
              " None,\n",
              " None,\n",
              " None,\n",
              " None,\n",
              " None,\n",
              " None,\n",
              " None,\n",
              " None,\n",
              " None,\n",
              " None,\n",
              " None,\n",
              " None,\n",
              " None,\n",
              " None,\n",
              " None,\n",
              " None,\n",
              " None,\n",
              " None,\n",
              " None,\n",
              " None,\n",
              " None,\n",
              " None,\n",
              " None,\n",
              " None,\n",
              " None,\n",
              " 10,\n",
              " None,\n",
              " None,\n",
              " None,\n",
              " None,\n",
              " None,\n",
              " None,\n",
              " None,\n",
              " None,\n",
              " None,\n",
              " None,\n",
              " None,\n",
              " None,\n",
              " None,\n",
              " None,\n",
              " None,\n",
              " None,\n",
              " None,\n",
              " None,\n",
              " None,\n",
              " None,\n",
              " None,\n",
              " None,\n",
              " None,\n",
              " None,\n",
              " None,\n",
              " None,\n",
              " None,\n",
              " None,\n",
              " None,\n",
              " None,\n",
              " None,\n",
              " None,\n",
              " None,\n",
              " None,\n",
              " None,\n",
              " None,\n",
              " None,\n",
              " None,\n",
              " None,\n",
              " None,\n",
              " None,\n",
              " None]"
            ]
          },
          "metadata": {},
          "execution_count": 35
        }
      ]
    },
    {
      "cell_type": "markdown",
      "source": [
        "# Collision handling in HASH Table"
      ],
      "metadata": {
        "id": "taSQ7kCMhK2g"
      }
    },
    {
      "cell_type": "code",
      "source": [
        "\n",
        "class hashtable:\n",
        "  def __init__(self):\n",
        "    self.Max=10\n",
        "    self.arr=[[] for i in range (self.Max)]\n",
        "\n",
        "  def get_hash(self,key):\n",
        "    hash=0\n",
        "    for char in key:\n",
        "      hash=hash+ord(char)\n",
        "    return hash%self.Max\n",
        "\n",
        "  def __getitem__(self,key):\n",
        "    h=self.get_hash(key)\n",
        "    for element in self.arr[h]:\n",
        "      if element[0]==key:\n",
        "        return element[1]\n",
        "\n",
        "  def __setitem__(self,key,val):\n",
        "    h=self.get_hash(key)\n",
        "    found=False\n",
        "    for idx,element in enumerate(self.arr[h]):\n",
        "      if len(element)==2 and element[0]==key:\n",
        "        self.arr[h][idx]=(key,val)\n",
        "        found=True\n",
        "        break\n",
        "    if not found:\n",
        "      self.arr[h].append((key,val))\n",
        "\n",
        "  def __delitem__(self,key):\n",
        "    h=self.get_hash(key)\n",
        "    for idx,element in enumerate(self.arr[h]):\n",
        "      if element[0]==key:\n",
        "        del self.arr[h][idx]"
      ],
      "metadata": {
        "id": "JVCvNBcyTYlg"
      },
      "execution_count": null,
      "outputs": []
    },
    {
      "cell_type": "code",
      "source": [
        "t=hashtable()"
      ],
      "metadata": {
        "id": "m2TJ7Zq8lJTe"
      },
      "execution_count": null,
      "outputs": []
    },
    {
      "cell_type": "code",
      "source": [
        "t[\"march 6\"]=120\n",
        "t[\"march 6\"]=13\n",
        "t[\"march 8\"]=67\n",
        "t[\"march 9\"]=4\n",
        "t[\"march 17\"]=459"
      ],
      "metadata": {
        "id": "vfXPuGg1rrpa"
      },
      "execution_count": null,
      "outputs": []
    },
    {
      "cell_type": "code",
      "source": [
        "t[\"march 6\"]"
      ],
      "metadata": {
        "colab": {
          "base_uri": "https://localhost:8080/"
        },
        "id": "oE-xS4Gelbqv",
        "outputId": "3f570a64-1426-444e-fb14-a96abda89ed7"
      },
      "execution_count": null,
      "outputs": [
        {
          "output_type": "execute_result",
          "data": {
            "text/plain": [
              "13"
            ]
          },
          "metadata": {},
          "execution_count": 104
        }
      ]
    },
    {
      "cell_type": "code",
      "source": [
        "t.arr"
      ],
      "metadata": {
        "colab": {
          "base_uri": "https://localhost:8080/"
        },
        "id": "PdfHLhKVtbUU",
        "outputId": "d1bf12b2-2413-4a57-8a1a-6553b2c85a66"
      },
      "execution_count": null,
      "outputs": [
        {
          "output_type": "execute_result",
          "data": {
            "text/plain": [
              "[[],\n",
              " [('march 8', 67)],\n",
              " [('march 9', 4)],\n",
              " [],\n",
              " [],\n",
              " [],\n",
              " [],\n",
              " [],\n",
              " [],\n",
              " [('march 6', 13), ('march 17', 459)]]"
            ]
          },
          "metadata": {},
          "execution_count": 105
        }
      ]
    },
    {
      "cell_type": "code",
      "source": [
        "del t[\"march 17\"]"
      ],
      "metadata": {
        "id": "RRC-rbZWwOSP"
      },
      "execution_count": null,
      "outputs": []
    },
    {
      "cell_type": "code",
      "source": [
        "t.arr"
      ],
      "metadata": {
        "colab": {
          "base_uri": "https://localhost:8080/"
        },
        "id": "Ab6JeqH7wXY3",
        "outputId": "5f145e24-47da-4931-d797-65f5f64bd29a"
      },
      "execution_count": null,
      "outputs": [
        {
          "output_type": "execute_result",
          "data": {
            "text/plain": [
              "[[],\n",
              " [('march 8', 67)],\n",
              " [('march 9', 4)],\n",
              " [],\n",
              " [],\n",
              " [],\n",
              " [],\n",
              " [],\n",
              " [],\n",
              " [('march 6', 13)]]"
            ]
          },
          "metadata": {},
          "execution_count": 107
        }
      ]
    },
    {
      "cell_type": "markdown",
      "source": [
        "# HASH TABLE LINEAR PROBEING"
      ],
      "metadata": {
        "id": "XbfzIciqB_tM"
      }
    },
    {
      "cell_type": "code",
      "source": [
        "class hashtable:\n",
        "  def __init__(self) -> None:\n",
        "    self.MAX=10\n",
        "    self.arr=[[] for i in range(self.MAX)]\n",
        "\n",
        "  def get_hash(self,key):\n",
        "    h=0\n",
        "    for char in key:\n",
        "      h+=ord(char)\n",
        "    return h%self.MAX\n",
        "\n",
        "  def __setitem__(self,key,val):\n",
        "    h=self.get_hash(key)\n",
        "    found=False\n",
        "    for idx,element in enumerate(self.arr[h]):\n",
        "      if len(element)==2 and element[0]==key:\n",
        "        self.arr[h][idx]=(key,val)\n",
        "        found=True\n",
        "        break\n",
        "    if not found:\n",
        "      self.arr[h].append((key,val))\n",
        "\n",
        "  def __getitem__(self,key):\n",
        "    h=self.get_hash(key)\n",
        "    for element in self.arr[h]:\n",
        "      if element[0]==key:\n",
        "        return element[1]\n",
        "\n",
        "  def __delitem__(self,key):\n",
        "    h=self.get_hash(key)\n",
        "    for idx,element in enumerate(self.arr[h]):\n",
        "      if element[0]==key:\n",
        "        del self.arr[h][idx]\n"
      ],
      "metadata": {
        "id": "olHGIFDMCHrP"
      },
      "execution_count": null,
      "outputs": []
    },
    {
      "cell_type": "code",
      "source": [
        "t=hashtable()"
      ],
      "metadata": {
        "id": "Dj1o-tvQFLxv"
      },
      "execution_count": null,
      "outputs": []
    },
    {
      "cell_type": "code",
      "source": [
        "t[\"march 6\"]=120\n",
        "t[\"march 6\"]=13\n",
        "t[\"march 8\"]=67\n",
        "t[\"march 9\"]=4\n",
        "t[\"march 17\"]=459"
      ],
      "metadata": {
        "id": "HdH8blHPFPT_"
      },
      "execution_count": null,
      "outputs": []
    },
    {
      "cell_type": "code",
      "source": [
        "t.get_hash(\"march 6\")"
      ],
      "metadata": {
        "colab": {
          "base_uri": "https://localhost:8080/"
        },
        "id": "agrHbgG4FSew",
        "outputId": "a9d9a8b4-5c13-4565-f5c2-e06b30999e7b"
      },
      "execution_count": null,
      "outputs": [
        {
          "output_type": "execute_result",
          "data": {
            "text/plain": [
              "9"
            ]
          },
          "metadata": {},
          "execution_count": 32
        }
      ]
    },
    {
      "cell_type": "code",
      "source": [
        "t.get_hash(\"march 17\")"
      ],
      "metadata": {
        "colab": {
          "base_uri": "https://localhost:8080/"
        },
        "id": "ihz4CT5iFgrO",
        "outputId": "14d3ae40-b6c3-47a2-d7e4-658869603a9f"
      },
      "execution_count": null,
      "outputs": [
        {
          "output_type": "execute_result",
          "data": {
            "text/plain": [
              "9"
            ]
          },
          "metadata": {},
          "execution_count": 33
        }
      ]
    },
    {
      "cell_type": "code",
      "source": [
        "t.arr"
      ],
      "metadata": {
        "colab": {
          "base_uri": "https://localhost:8080/"
        },
        "id": "S99vR1T3Jz2x",
        "outputId": "7609303e-5b52-419c-d96f-733c8d5b0646"
      },
      "execution_count": null,
      "outputs": [
        {
          "output_type": "execute_result",
          "data": {
            "text/plain": [
              "[[],\n",
              " [('march 8', 67)],\n",
              " [('march 9', 4)],\n",
              " [],\n",
              " [],\n",
              " [],\n",
              " [],\n",
              " [],\n",
              " [],\n",
              " [('march 6', 13), ('march 17', 459)]]"
            ]
          },
          "metadata": {},
          "execution_count": 34
        }
      ]
    },
    {
      "cell_type": "code",
      "source": [
        "del t[\"march 17\"]"
      ],
      "metadata": {
        "id": "f8tBVR7KJ0TG"
      },
      "execution_count": null,
      "outputs": []
    },
    {
      "cell_type": "code",
      "source": [
        "t.arr"
      ],
      "metadata": {
        "colab": {
          "base_uri": "https://localhost:8080/"
        },
        "id": "vjDTg77GKriL",
        "outputId": "3b1ff5fc-d4d2-4061-d431-4fd0e47520eb"
      },
      "execution_count": null,
      "outputs": [
        {
          "output_type": "execute_result",
          "data": {
            "text/plain": [
              "[[],\n",
              " [('march 8', 67)],\n",
              " [('march 9', 4)],\n",
              " [],\n",
              " [],\n",
              " [],\n",
              " [],\n",
              " [],\n",
              " [],\n",
              " [('march 6', 13)]]"
            ]
          },
          "metadata": {},
          "execution_count": 36
        }
      ]
    },
    {
      "cell_type": "markdown",
      "source": [
        "STACK"
      ],
      "metadata": {
        "id": "rr4gLc_YMs_i"
      }
    },
    {
      "cell_type": "code",
      "source": [
        "s=[]\n",
        "s.append(1)\n",
        "s.append(2)\n",
        "s.append(3)\n",
        "s.append(4)"
      ],
      "metadata": {
        "id": "BUW_L1PaKtDN"
      },
      "execution_count": null,
      "outputs": []
    },
    {
      "cell_type": "code",
      "source": [
        "s.pop()"
      ],
      "metadata": {
        "colab": {
          "base_uri": "https://localhost:8080/"
        },
        "id": "3rUkt_sQS-Bl",
        "outputId": "644e651c-6cbc-44b0-8896-f6b8e592c889"
      },
      "execution_count": null,
      "outputs": [
        {
          "output_type": "execute_result",
          "data": {
            "text/plain": [
              "4"
            ]
          },
          "metadata": {},
          "execution_count": 40
        }
      ]
    },
    {
      "cell_type": "code",
      "source": [
        "s"
      ],
      "metadata": {
        "colab": {
          "base_uri": "https://localhost:8080/"
        },
        "id": "ohIAQQ9RT2DC",
        "outputId": "ea6280ef-8c3f-4113-fb59-0888c6b0546e"
      },
      "execution_count": null,
      "outputs": [
        {
          "output_type": "execute_result",
          "data": {
            "text/plain": [
              "[1, 2, 3]"
            ]
          },
          "metadata": {},
          "execution_count": 41
        }
      ]
    },
    {
      "cell_type": "code",
      "source": [
        "from collections import deque\n",
        "stack=deque()"
      ],
      "metadata": {
        "id": "-ZyWQTbtUvFo"
      },
      "execution_count": null,
      "outputs": []
    },
    {
      "cell_type": "code",
      "source": [
        "stack.append(\"luffy\")\n",
        "stack.append(\"zoro\")\n",
        "stack.append(\"nami\")\n",
        "stack.append(\"sanji\")\n",
        "stack"
      ],
      "metadata": {
        "colab": {
          "base_uri": "https://localhost:8080/"
        },
        "id": "y1K7MdYUVBr1",
        "outputId": "89703d08-350c-4d54-e7ce-2e14f0ec7a8c"
      },
      "execution_count": null,
      "outputs": [
        {
          "output_type": "execute_result",
          "data": {
            "text/plain": [
              "deque(['luffy', 'zoro', 'nami', 'sanji'])"
            ]
          },
          "metadata": {},
          "execution_count": 47
        }
      ]
    },
    {
      "cell_type": "code",
      "source": [
        "class stack:\n",
        "  def __init__(self):\n",
        "    self.container=deque()\n",
        "  def push(self,val):\n",
        "    self.container.append(val)\n",
        "  def peek(self):\n",
        "    return self.container[-1]\n",
        "  def pop(self):\n",
        "    return self.container.pop()\n",
        "  def is_empty(self):\n",
        "    return self.container==0\n",
        "  def size(self):\n",
        "    return len(self.container)\n"
      ],
      "metadata": {
        "id": "2zr7pz6AVDGC"
      },
      "execution_count": null,
      "outputs": []
    },
    {
      "cell_type": "code",
      "source": [
        "s=stack()"
      ],
      "metadata": {
        "id": "6vZeAO3hVmCL"
      },
      "execution_count": null,
      "outputs": []
    },
    {
      "cell_type": "code",
      "source": [
        "s.push(5)"
      ],
      "metadata": {
        "id": "VYvK6jroXKaZ"
      },
      "execution_count": null,
      "outputs": []
    },
    {
      "cell_type": "code",
      "source": [
        "s.peek()"
      ],
      "metadata": {
        "colab": {
          "base_uri": "https://localhost:8080/"
        },
        "id": "ea8KS_69XORp",
        "outputId": "841e91b7-7e7b-4736-9823-61700288065b"
      },
      "execution_count": null,
      "outputs": [
        {
          "output_type": "execute_result",
          "data": {
            "text/plain": [
              "5"
            ]
          },
          "metadata": {},
          "execution_count": 58
        }
      ]
    },
    {
      "cell_type": "code",
      "source": [
        "s.pop()"
      ],
      "metadata": {
        "colab": {
          "base_uri": "https://localhost:8080/"
        },
        "id": "FS8jo2cSXO2K",
        "outputId": "ca971d21-1590-407e-9ce0-87b643d09988"
      },
      "execution_count": null,
      "outputs": [
        {
          "output_type": "execute_result",
          "data": {
            "text/plain": [
              "5"
            ]
          },
          "metadata": {},
          "execution_count": 59
        }
      ]
    },
    {
      "cell_type": "code",
      "source": [
        "s.push(78)\n",
        "s.push(34)\n",
        "s.push(24)"
      ],
      "metadata": {
        "id": "3_7ccROSXcgj"
      },
      "execution_count": null,
      "outputs": []
    },
    {
      "cell_type": "code",
      "source": [
        "s.peek()"
      ],
      "metadata": {
        "colab": {
          "base_uri": "https://localhost:8080/"
        },
        "id": "OvmSCYFpXdCn",
        "outputId": "5efe2db0-2ca2-41b4-d7b1-affc4a425545"
      },
      "execution_count": null,
      "outputs": [
        {
          "output_type": "execute_result",
          "data": {
            "text/plain": [
              "24"
            ]
          },
          "metadata": {},
          "execution_count": 62
        }
      ]
    },
    {
      "cell_type": "code",
      "source": [
        "s.pop()"
      ],
      "metadata": {
        "colab": {
          "base_uri": "https://localhost:8080/"
        },
        "id": "WfKQA-wRXkSD",
        "outputId": "84ec3a67-8a15-4040-8130-8b5fd4866dd9"
      },
      "execution_count": null,
      "outputs": [
        {
          "output_type": "execute_result",
          "data": {
            "text/plain": [
              "24"
            ]
          },
          "metadata": {},
          "execution_count": 63
        }
      ]
    },
    {
      "cell_type": "code",
      "source": [
        "s.size()"
      ],
      "metadata": {
        "colab": {
          "base_uri": "https://localhost:8080/"
        },
        "id": "R_DVpE6QXn65",
        "outputId": "3ed44af8-f98a-477d-9378-78b12d12f8b9"
      },
      "execution_count": null,
      "outputs": [
        {
          "output_type": "execute_result",
          "data": {
            "text/plain": [
              "2"
            ]
          },
          "metadata": {},
          "execution_count": 64
        }
      ]
    },
    {
      "cell_type": "markdown",
      "source": [
        "QUEUE"
      ],
      "metadata": {
        "id": "E4iVewEXXrN9"
      }
    },
    {
      "cell_type": "code",
      "source": [
        "from collections import deque\n",
        "\n",
        "class queue:\n",
        "\n",
        "  def __init__(self):\n",
        "    self.buffer=deque()\n",
        "\n",
        "  def enqueue(self,val):\n",
        "    self.buffer.appendleft(val)\n",
        "\n",
        "  def dequeue(self):\n",
        "    return self.buffer.pop()\n",
        "\n",
        "  def is_empty(self):\n",
        "    return len(self.buffer)==0\n",
        "\n",
        "  def size(self):\n",
        "    return len(self.buffer)"
      ],
      "metadata": {
        "id": "K3uPiFDbXpzF"
      },
      "execution_count": 2,
      "outputs": []
    },
    {
      "cell_type": "code",
      "source": [
        "pq=queue()"
      ],
      "metadata": {
        "id": "39uUxDR6bTTB"
      },
      "execution_count": 3,
      "outputs": []
    },
    {
      "cell_type": "code",
      "source": [
        "pq.enqueue({\n",
        "    \"company:wall mart\",\n",
        "    \"timestamp: 10 May,11:00 AM\",\n",
        "    \"price: 131.0\"\n",
        "})\n",
        "pq.enqueue({\n",
        "    \"company:wall mart\",\n",
        "    \"timestamp: 10 May,11:01 AM\",\n",
        "    \"price: 133.9\"\n",
        "})\n",
        "pq.enqueue({\n",
        "    \"company:wall mart\",\n",
        "    \"timestamp: 10 May,11:02 AM\",\n",
        "    \"price: 135.2\"\n",
        "})"
      ],
      "metadata": {
        "id": "bUJJLnQ-bV4F"
      },
      "execution_count": 4,
      "outputs": []
    },
    {
      "cell_type": "code",
      "source": [
        "pq.buffer"
      ],
      "metadata": {
        "colab": {
          "base_uri": "https://localhost:8080/"
        },
        "id": "dBK6hgwFcGWx",
        "outputId": "6fa6ddc8-0c39-48d3-8934-bb144ff48d60"
      },
      "execution_count": 5,
      "outputs": [
        {
          "output_type": "execute_result",
          "data": {
            "text/plain": [
              "deque([{'company:wall mart', 'price: 135.2', 'timestamp: 10 May,11:02 AM'},\n",
              "       {'company:wall mart', 'price: 133.9', 'timestamp: 10 May,11:01 AM'},\n",
              "       {'company:wall mart', 'price: 131.0', 'timestamp: 10 May,11:00 AM'}])"
            ]
          },
          "metadata": {},
          "execution_count": 5
        }
      ]
    },
    {
      "cell_type": "markdown",
      "source": [
        "# TREE"
      ],
      "metadata": {
        "id": "B9fIW1bBnVK3"
      }
    },
    {
      "cell_type": "code",
      "source": [
        "class TreeNode:\n",
        "\n",
        "  def __init__(self,data) -> None:\n",
        "    self.data=data\n",
        "    self.children=[]\n",
        "    self.parent=None\n",
        "\n",
        "  def add_child(self,child):\n",
        "    child.parent=self\n",
        "    self.children.append(child)\n",
        "\n",
        "  def print_tree(self):\n",
        "    spaces=\" \" * self.get_level()*6\n",
        "    prefix=spaces+'|___' if self.parent else \"\"\n",
        "\n",
        "    print(prefix+self.data)\n",
        "    if self.children:\n",
        "      for child in self.children:\n",
        "        child.print_tree()\n",
        "\n",
        "  def get_level(self):\n",
        "    level=0\n",
        "    p=self.parent\n",
        "    while p:\n",
        "      level+=1\n",
        "      p=p.parent\n",
        "\n",
        "    return level\n",
        "\n",
        "\n",
        "def build_product_tree():\n",
        "  root=TreeNode(\"Electronics\")\n",
        "\n",
        "  laptop=TreeNode(\"Laptop\")\n",
        "  laptop.add_child(TreeNode(\"HP\"))\n",
        "  laptop.add_child(TreeNode(\"Mac\"))\n",
        "  laptop.add_child(TreeNode(\"Lenovo\"))\n",
        "\n",
        "  mobile=TreeNode(\"Mobile\")\n",
        "  mobile.add_child(TreeNode(\"samsung\"))\n",
        "  mobile.add_child(TreeNode(\"apple\"))\n",
        "  mobile.add_child(TreeNode(\"vivo\"))\n",
        "\n",
        "  tv=TreeNode(\"Tv\")\n",
        "  tv.add_child(TreeNode(\"LG\"))\n",
        "  tv.add_child(TreeNode(\"Onida\"))\n",
        "  tv.add_child(TreeNode(\"sony\"))\n",
        "\n",
        "\n",
        "  root.add_child(laptop)\n",
        "  root.add_child(mobile)\n",
        "  root.add_child(tv)\n",
        "\n",
        "\n",
        "\n",
        "  return root\n",
        "\n",
        "\n",
        "\n",
        "if __name__==\"__main__\":\n",
        "  root=build_product_tree()\n",
        "  root.print_tree()\n",
        "\n",
        "  pass\n",
        "\n",
        "\n",
        "\n"
      ],
      "metadata": {
        "colab": {
          "base_uri": "https://localhost:8080/"
        },
        "id": "wh3qNslNnSTT",
        "outputId": "d4de5d29-c8e0-4438-e711-ca3022d9ca92"
      },
      "execution_count": 30,
      "outputs": [
        {
          "output_type": "stream",
          "name": "stdout",
          "text": [
            "Electronics\n",
            "      |___Laptop\n",
            "            |___HP\n",
            "            |___Mac\n",
            "            |___Lenovo\n",
            "      |___Mobile\n",
            "            |___samsung\n",
            "            |___apple\n",
            "            |___vivo\n",
            "      |___Tv\n",
            "            |___LG\n",
            "            |___Onida\n",
            "            |___sony\n"
          ]
        }
      ]
    },
    {
      "cell_type": "code",
      "source": [
        "class TreeNode:\n",
        "  def __init__(self,data):\n",
        "    self.data=data\n",
        "    self.children=[]\n",
        "    self.parent=None\n",
        "\n",
        "  def add_child(self,child):\n",
        "    child.parent=self\n",
        "    self.children.append(child)\n",
        "\n",
        "\n",
        "  def print_tree(self):\n",
        "    spaces=\" \" * self.get_level() * 6\n",
        "    prefix=spaces + \"|__\"  if self.parent else \"\"\n",
        "    print(prefix+self.data)\n",
        "    if self.children:\n",
        "      for child in self.children:\n",
        "        child.print_tree()\n",
        "\n",
        "  def get_level(self):\n",
        "    level=0\n",
        "    p=self.parent\n",
        "    while p:\n",
        "      level+=1\n",
        "      p=p.parent\n",
        "\n",
        "    return level\n",
        "\n",
        "def build_product_tree():\n",
        "  root=TreeNode(\"Electronics\")\n",
        "\n",
        "  laptop=TreeNode(\"Laptop\")\n",
        "  laptop.add_child(TreeNode(\"HP\"))\n",
        "  laptop.add_child(TreeNode(\"DELL\"))\n",
        "  laptop.add_child(TreeNode(\"LENOVO\"))\n",
        "\n",
        "\n",
        "  cellphone=TreeNode(\"Cellphone\")\n",
        "  cellphone.add_child(TreeNode(\"SAMSUNG\"))\n",
        "  cellphone.add_child(TreeNode(\"REDMI\"))\n",
        "  cellphone.add_child(TreeNode(\"APPLE\"))\n",
        "\n",
        "  tv=TreeNode(\"TV\")\n",
        "  tv.add_child(TreeNode(\"ONIDA\"))\n",
        "  tv.add_child(TreeNode(\"SONY\"))\n",
        "  tv.add_child(TreeNode(\"ONE PLUS\"))\n",
        "\n",
        "\n",
        "\n",
        "  root.add_child(laptop)\n",
        "  root.add_child(cellphone)\n",
        "  root.add_child(tv)\n",
        "\n",
        "  return root\n",
        "\n",
        "\n",
        "\n",
        "\n",
        "if __name__==\"__main__\":\n",
        "  root=build_product_tree()\n",
        "  root.print_tree()\n"
      ],
      "metadata": {
        "colab": {
          "base_uri": "https://localhost:8080/"
        },
        "id": "8rNTPdcb3MfM",
        "outputId": "bc760cbd-64d7-4e3d-cb8d-fadd903aa01a"
      },
      "execution_count": 50,
      "outputs": [
        {
          "output_type": "stream",
          "name": "stdout",
          "text": [
            "Electronics\n",
            "      |__Laptop\n",
            "            |__HP\n",
            "            |__DELL\n",
            "            |__LENOVO\n",
            "      |__Cellphone\n",
            "            |__SAMSUNG\n",
            "            |__REDMI\n",
            "            |__APPLE\n",
            "      |__TV\n",
            "            |__ONIDA\n",
            "            |__SONY\n",
            "            |__ONE PLUS\n"
          ]
        }
      ]
    },
    {
      "cell_type": "code",
      "source": [],
      "metadata": {
        "id": "cXJ1B40L3vlb"
      },
      "execution_count": null,
      "outputs": []
    }
  ]
}