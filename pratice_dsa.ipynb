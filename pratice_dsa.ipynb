{
  "nbformat": 4,
  "nbformat_minor": 0,
  "metadata": {
    "colab": {
      "provenance": [],
      "authorship_tag": "ABX9TyPVt5mHOj3Xvdz7NK1fwKJI",
      "include_colab_link": true
    },
    "kernelspec": {
      "name": "python3",
      "display_name": "Python 3"
    },
    "language_info": {
      "name": "python"
    }
  },
  "cells": [
    {
      "cell_type": "markdown",
      "metadata": {
        "id": "view-in-github",
        "colab_type": "text"
      },
      "source": [
        "<a href=\"https://colab.research.google.com/github/SUDHAN1022/Python-for-data-science/blob/main/pratice_dsa.ipynb\" target=\"_parent\"><img src=\"https://colab.research.google.com/assets/colab-badge.svg\" alt=\"Open In Colab\"/></a>"
      ]
    },
    {
      "cell_type": "markdown",
      "source": [
        "# **Hash table**"
      ],
      "metadata": {
        "id": "oR-plzTqKBvO"
      }
    },
    {
      "cell_type": "code",
      "execution_count": null,
      "metadata": {
        "id": "cn9-vwCPJ6vm"
      },
      "outputs": [],
      "source": [
        "#def get_hash(key):\n",
        "  #h=0\n",
        "  #for char in key:\n",
        "   # h=h+ord(char)\n",
        "  #return h%100"
      ]
    },
    {
      "cell_type": "code",
      "source": [
        "class hashtable:\n",
        "  def __init__(self) -> None:\n",
        "    self.MAX=100\n",
        "    self.arr=[None for i in range(self.MAX)]\n",
        "\n",
        "  def get_hash(self,key):\n",
        "    h=0\n",
        "    for char in key:\n",
        "      h+=ord(char)\n",
        "    return h%100\n",
        "\n",
        "  def __setitem__(self,key,val):\n",
        "    h=self.get_hash(key)\n",
        "    self.arr[h]=val\n",
        "\n",
        "  def __getitem__(self,key):\n",
        "    h=self.get_hash(key)\n",
        "    return self.arr[h]\n",
        "\n",
        "  def __delitem__(self,key):\n",
        "    h=self.get_hash(key)\n",
        "    self.arr[h]=None"
      ],
      "metadata": {
        "id": "wYjQ8FDPNJ7N"
      },
      "execution_count": null,
      "outputs": []
    },
    {
      "cell_type": "code",
      "source": [
        "t=hashtable()\n",
        "t[\"march 6\"]=130\n",
        "t[\"march 9\"]=30\n",
        "t[\"march 15\"]=10"
      ],
      "metadata": {
        "id": "3XCVtZAQOXzI"
      },
      "execution_count": null,
      "outputs": []
    },
    {
      "cell_type": "code",
      "source": [
        "del t[\"march 9\"]"
      ],
      "metadata": {
        "id": "zSJQV9r3TSg1"
      },
      "execution_count": null,
      "outputs": []
    },
    {
      "cell_type": "code",
      "source": [
        "t.arr"
      ],
      "metadata": {
        "colab": {
          "base_uri": "https://localhost:8080/"
        },
        "id": "UuGx-LRVRYoe",
        "outputId": "6f5e8f3a-c1bd-4f12-e213-ea4a95eaf5fe"
      },
      "execution_count": null,
      "outputs": [
        {
          "output_type": "execute_result",
          "data": {
            "text/plain": [
              "[None,\n",
              " None,\n",
              " None,\n",
              " None,\n",
              " None,\n",
              " None,\n",
              " None,\n",
              " None,\n",
              " None,\n",
              " 130,\n",
              " None,\n",
              " None,\n",
              " None,\n",
              " None,\n",
              " None,\n",
              " None,\n",
              " None,\n",
              " None,\n",
              " None,\n",
              " None,\n",
              " None,\n",
              " None,\n",
              " None,\n",
              " None,\n",
              " None,\n",
              " None,\n",
              " None,\n",
              " None,\n",
              " None,\n",
              " None,\n",
              " None,\n",
              " None,\n",
              " None,\n",
              " None,\n",
              " None,\n",
              " None,\n",
              " None,\n",
              " None,\n",
              " None,\n",
              " None,\n",
              " None,\n",
              " None,\n",
              " None,\n",
              " None,\n",
              " None,\n",
              " None,\n",
              " None,\n",
              " None,\n",
              " None,\n",
              " None,\n",
              " None,\n",
              " None,\n",
              " None,\n",
              " None,\n",
              " None,\n",
              " None,\n",
              " None,\n",
              " 10,\n",
              " None,\n",
              " None,\n",
              " None,\n",
              " None,\n",
              " None,\n",
              " None,\n",
              " None,\n",
              " None,\n",
              " None,\n",
              " None,\n",
              " None,\n",
              " None,\n",
              " None,\n",
              " None,\n",
              " None,\n",
              " None,\n",
              " None,\n",
              " None,\n",
              " None,\n",
              " None,\n",
              " None,\n",
              " None,\n",
              " None,\n",
              " None,\n",
              " None,\n",
              " None,\n",
              " None,\n",
              " None,\n",
              " None,\n",
              " None,\n",
              " None,\n",
              " None,\n",
              " None,\n",
              " None,\n",
              " None,\n",
              " None,\n",
              " None,\n",
              " None,\n",
              " None,\n",
              " None,\n",
              " None,\n",
              " None]"
            ]
          },
          "metadata": {},
          "execution_count": 35
        }
      ]
    },
    {
      "cell_type": "markdown",
      "source": [
        "# Collision handling in HASH Table"
      ],
      "metadata": {
        "id": "taSQ7kCMhK2g"
      }
    },
    {
      "cell_type": "code",
      "source": [
        "\n",
        "class hashtable:\n",
        "  def __init__(self):\n",
        "    self.Max=10\n",
        "    self.arr=[[] for i in range (self.Max)]\n",
        "\n",
        "  def get_hash(self,key):\n",
        "    hash=0\n",
        "    for char in key:\n",
        "      hash=hash+ord(char)\n",
        "    return hash%self.Max\n",
        "\n",
        "  def __getitem__(self,key):\n",
        "    h=self.get_hash(key)\n",
        "    for element in self.arr[h]:\n",
        "      if element[0]==key:\n",
        "        return element[1]\n",
        "\n",
        "  def __setitem__(self,key,val):\n",
        "    h=self.get_hash(key)\n",
        "    found=False\n",
        "    for idx,element in enumerate(self.arr[h]):\n",
        "      if len(element)==2 and element[0]==key:\n",
        "        self.arr[h][idx]=(key,val)\n",
        "        found=True\n",
        "        break\n",
        "    if not found:\n",
        "      self.arr[h].append((key,val))\n",
        "\n",
        "  def __delitem__(self,key):\n",
        "    h=self.get_hash(key)\n",
        "    for idx,element in enumerate(self.arr[h]):\n",
        "      if element[0]==key:\n",
        "        del self.arr[h][idx]"
      ],
      "metadata": {
        "id": "JVCvNBcyTYlg"
      },
      "execution_count": 101,
      "outputs": []
    },
    {
      "cell_type": "code",
      "source": [
        "t=hashtable()"
      ],
      "metadata": {
        "id": "m2TJ7Zq8lJTe"
      },
      "execution_count": 102,
      "outputs": []
    },
    {
      "cell_type": "code",
      "source": [
        "t[\"march 6\"]=120\n",
        "t[\"march 6\"]=13\n",
        "t[\"march 8\"]=67\n",
        "t[\"march 9\"]=4\n",
        "t[\"march 17\"]=459"
      ],
      "metadata": {
        "id": "vfXPuGg1rrpa"
      },
      "execution_count": 103,
      "outputs": []
    },
    {
      "cell_type": "code",
      "source": [
        "t[\"march 6\"]"
      ],
      "metadata": {
        "colab": {
          "base_uri": "https://localhost:8080/"
        },
        "id": "oE-xS4Gelbqv",
        "outputId": "3f570a64-1426-444e-fb14-a96abda89ed7"
      },
      "execution_count": 104,
      "outputs": [
        {
          "output_type": "execute_result",
          "data": {
            "text/plain": [
              "13"
            ]
          },
          "metadata": {},
          "execution_count": 104
        }
      ]
    },
    {
      "cell_type": "code",
      "source": [
        "t.arr"
      ],
      "metadata": {
        "colab": {
          "base_uri": "https://localhost:8080/"
        },
        "id": "PdfHLhKVtbUU",
        "outputId": "d1bf12b2-2413-4a57-8a1a-6553b2c85a66"
      },
      "execution_count": 105,
      "outputs": [
        {
          "output_type": "execute_result",
          "data": {
            "text/plain": [
              "[[],\n",
              " [('march 8', 67)],\n",
              " [('march 9', 4)],\n",
              " [],\n",
              " [],\n",
              " [],\n",
              " [],\n",
              " [],\n",
              " [],\n",
              " [('march 6', 13), ('march 17', 459)]]"
            ]
          },
          "metadata": {},
          "execution_count": 105
        }
      ]
    },
    {
      "cell_type": "code",
      "source": [
        "del t[\"march 17\"]"
      ],
      "metadata": {
        "id": "RRC-rbZWwOSP"
      },
      "execution_count": 106,
      "outputs": []
    },
    {
      "cell_type": "code",
      "source": [
        "t.arr"
      ],
      "metadata": {
        "colab": {
          "base_uri": "https://localhost:8080/"
        },
        "id": "Ab6JeqH7wXY3",
        "outputId": "5f145e24-47da-4931-d797-65f5f64bd29a"
      },
      "execution_count": 107,
      "outputs": [
        {
          "output_type": "execute_result",
          "data": {
            "text/plain": [
              "[[],\n",
              " [('march 8', 67)],\n",
              " [('march 9', 4)],\n",
              " [],\n",
              " [],\n",
              " [],\n",
              " [],\n",
              " [],\n",
              " [],\n",
              " [('march 6', 13)]]"
            ]
          },
          "metadata": {},
          "execution_count": 107
        }
      ]
    }
  ]
}