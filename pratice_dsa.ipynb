{
  "nbformat": 4,
  "nbformat_minor": 0,
  "metadata": {
    "colab": {
      "provenance": [],
      "authorship_tag": "ABX9TyMTF0ZEKqLCwPMoe1B+BqLv",
      "include_colab_link": true
    },
    "kernelspec": {
      "name": "python3",
      "display_name": "Python 3"
    },
    "language_info": {
      "name": "python"
    }
  },
  "cells": [
    {
      "cell_type": "markdown",
      "metadata": {
        "id": "view-in-github",
        "colab_type": "text"
      },
      "source": [
        "<a href=\"https://colab.research.google.com/github/SUDHAN1022/Python-for-data-science/blob/main/pratice_dsa.ipynb\" target=\"_parent\"><img src=\"https://colab.research.google.com/assets/colab-badge.svg\" alt=\"Open In Colab\"/></a>"
      ]
    },
    {
      "cell_type": "markdown",
      "source": [
        "# **Hash table**"
      ],
      "metadata": {
        "id": "oR-plzTqKBvO"
      }
    },
    {
      "cell_type": "code",
      "execution_count": 5,
      "metadata": {
        "id": "cn9-vwCPJ6vm"
      },
      "outputs": [],
      "source": [
        "#def get_hash(key):\n",
        "  #h=0\n",
        "  #for char in key:\n",
        "   # h=h+ord(char)\n",
        "  #return h%100"
      ]
    },
    {
      "cell_type": "code",
      "source": [
        "class hashtable:\n",
        "  def __init__(self) -> None:\n",
        "    self.MAX=100\n",
        "    self.arr=[None for i in range(self.MAX)]\n",
        "\n",
        "  def get_hash(self,key):\n",
        "    h=0\n",
        "    for char in key:\n",
        "      h+=ord(char)\n",
        "    return h%100\n",
        "\n",
        "  def __setitem__(self,key,val):\n",
        "    h=self.get_hash(key)\n",
        "    self.arr[h]=val\n",
        "\n",
        "  def __getitem__(self,key):\n",
        "    h=self.get_hash(key)\n",
        "    return self.arr[h]\n",
        "\n",
        "  def __delitem__(self,key):\n",
        "    h=self.get_hash(key)\n",
        "    self.arr[h]=None"
      ],
      "metadata": {
        "id": "wYjQ8FDPNJ7N"
      },
      "execution_count": 32,
      "outputs": []
    },
    {
      "cell_type": "code",
      "source": [
        "t=hashtable()\n",
        "t[\"march 6\"]=130\n",
        "t[\"march 9\"]=30\n",
        "t[\"march 15\"]=10"
      ],
      "metadata": {
        "id": "3XCVtZAQOXzI"
      },
      "execution_count": 33,
      "outputs": []
    },
    {
      "cell_type": "code",
      "source": [
        "del t[\"march 9\"]"
      ],
      "metadata": {
        "id": "zSJQV9r3TSg1"
      },
      "execution_count": 34,
      "outputs": []
    },
    {
      "cell_type": "code",
      "source": [
        "t.arr"
      ],
      "metadata": {
        "colab": {
          "base_uri": "https://localhost:8080/"
        },
        "id": "UuGx-LRVRYoe",
        "outputId": "6f5e8f3a-c1bd-4f12-e213-ea4a95eaf5fe"
      },
      "execution_count": 35,
      "outputs": [
        {
          "output_type": "execute_result",
          "data": {
            "text/plain": [
              "[None,\n",
              " None,\n",
              " None,\n",
              " None,\n",
              " None,\n",
              " None,\n",
              " None,\n",
              " None,\n",
              " None,\n",
              " 130,\n",
              " None,\n",
              " None,\n",
              " None,\n",
              " None,\n",
              " None,\n",
              " None,\n",
              " None,\n",
              " None,\n",
              " None,\n",
              " None,\n",
              " None,\n",
              " None,\n",
              " None,\n",
              " None,\n",
              " None,\n",
              " None,\n",
              " None,\n",
              " None,\n",
              " None,\n",
              " None,\n",
              " None,\n",
              " None,\n",
              " None,\n",
              " None,\n",
              " None,\n",
              " None,\n",
              " None,\n",
              " None,\n",
              " None,\n",
              " None,\n",
              " None,\n",
              " None,\n",
              " None,\n",
              " None,\n",
              " None,\n",
              " None,\n",
              " None,\n",
              " None,\n",
              " None,\n",
              " None,\n",
              " None,\n",
              " None,\n",
              " None,\n",
              " None,\n",
              " None,\n",
              " None,\n",
              " None,\n",
              " 10,\n",
              " None,\n",
              " None,\n",
              " None,\n",
              " None,\n",
              " None,\n",
              " None,\n",
              " None,\n",
              " None,\n",
              " None,\n",
              " None,\n",
              " None,\n",
              " None,\n",
              " None,\n",
              " None,\n",
              " None,\n",
              " None,\n",
              " None,\n",
              " None,\n",
              " None,\n",
              " None,\n",
              " None,\n",
              " None,\n",
              " None,\n",
              " None,\n",
              " None,\n",
              " None,\n",
              " None,\n",
              " None,\n",
              " None,\n",
              " None,\n",
              " None,\n",
              " None,\n",
              " None,\n",
              " None,\n",
              " None,\n",
              " None,\n",
              " None,\n",
              " None,\n",
              " None,\n",
              " None,\n",
              " None,\n",
              " None]"
            ]
          },
          "metadata": {},
          "execution_count": 35
        }
      ]
    },
    {
      "cell_type": "code",
      "source": [],
      "metadata": {
        "id": "JVCvNBcyTYlg"
      },
      "execution_count": null,
      "outputs": []
    }
  ]
}