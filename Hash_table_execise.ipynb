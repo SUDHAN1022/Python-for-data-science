{
  "nbformat": 4,
  "nbformat_minor": 0,
  "metadata": {
    "colab": {
      "provenance": [],
      "authorship_tag": "ABX9TyMtjclcO7wepdcTukcSAsA0",
      "include_colab_link": true
    },
    "kernelspec": {
      "name": "python3",
      "display_name": "Python 3"
    },
    "language_info": {
      "name": "python"
    }
  },
  "cells": [
    {
      "cell_type": "markdown",
      "metadata": {
        "id": "view-in-github",
        "colab_type": "text"
      },
      "source": [
        "<a href=\"https://colab.research.google.com/github/SUDHAN1022/Python-for-data-science/blob/main/Hash_table_execise.ipynb\" target=\"_parent\"><img src=\"https://colab.research.google.com/assets/colab-badge.svg\" alt=\"Open In Colab\"/></a>"
      ]
    },
    {
      "cell_type": "code",
      "source": [
        "arr=[]\n",
        "\n",
        "with open(\"nyc_weather.csv\",\"r\") as f:\n",
        "  for line in f:\n",
        "    tokens=line.split(\",\")\n",
        "    try:\n",
        "      temperature=int(tokens[1])\n",
        "      arr.append(temperature)\n",
        "    except:\n",
        "      print(\"Invalid\")"
      ],
      "metadata": {
        "colab": {
          "base_uri": "https://localhost:8080/"
        },
        "id": "Wf4RDtNk8TRn",
        "outputId": "96b563ec-c6b0-4c1b-a3b0-c3b627609906"
      },
      "execution_count": null,
      "outputs": [
        {
          "output_type": "stream",
          "name": "stdout",
          "text": [
            "Invalid\n"
          ]
        }
      ]
    },
    {
      "cell_type": "code",
      "source": [
        "arr"
      ],
      "metadata": {
        "colab": {
          "base_uri": "https://localhost:8080/"
        },
        "id": "7wBO3AVeC-Jc",
        "outputId": "74a711c1-dd1c-400b-ee8f-9b049817e81f"
      },
      "execution_count": null,
      "outputs": [
        {
          "output_type": "execute_result",
          "data": {
            "text/plain": [
              "[27, 31, 23, 34, 37, 38, 29, 30, 35, 30]"
            ]
          },
          "metadata": {},
          "execution_count": 39
        }
      ]
    },
    {
      "cell_type": "code",
      "source": [
        "sum(arr[0:7])/7"
      ],
      "metadata": {
        "colab": {
          "base_uri": "https://localhost:8080/"
        },
        "id": "1DuCqEqmDtQW",
        "outputId": "fc85099a-b233-4da4-a492-ed78fb56b2fa"
      },
      "execution_count": null,
      "outputs": [
        {
          "output_type": "execute_result",
          "data": {
            "text/plain": [
              "31.285714285714285"
            ]
          },
          "metadata": {},
          "execution_count": 45
        }
      ]
    },
    {
      "cell_type": "code",
      "source": [
        "max(arr[0:10])"
      ],
      "metadata": {
        "colab": {
          "base_uri": "https://localhost:8080/"
        },
        "id": "-fbIZbxcFB7i",
        "outputId": "492ab6d8-ecb2-4a63-d4dc-b004680054c3"
      },
      "execution_count": null,
      "outputs": [
        {
          "output_type": "execute_result",
          "data": {
            "text/plain": [
              "38"
            ]
          },
          "metadata": {},
          "execution_count": 46
        }
      ]
    },
    {
      "cell_type": "markdown",
      "source": [
        "2.\n"
      ],
      "metadata": {
        "id": "8X-HKcohFZZb"
      }
    },
    {
      "cell_type": "code",
      "source": [
        "weather_dict={}\n",
        "\n",
        "with open (\"nyc_weather.csv\",\"r\") as f:\n",
        "  for line in f:\n",
        "    tokens=line.split(\",\")\n",
        "    day=tokens[0]\n",
        "    try:\n",
        "      temperature=int(tokens[1])\n",
        "      weather_dict[day]=temperature\n",
        "    except:\n",
        "      print(\"Invalid temperature\")"
      ],
      "metadata": {
        "colab": {
          "base_uri": "https://localhost:8080/"
        },
        "id": "smiBTS14Fayc",
        "outputId": "6fb0392f-1fd6-4d16-9f9a-e684b6f66d23"
      },
      "execution_count": null,
      "outputs": [
        {
          "output_type": "stream",
          "name": "stdout",
          "text": [
            "Invalid temperature\n"
          ]
        }
      ]
    },
    {
      "cell_type": "code",
      "source": [
        "weather_dict"
      ],
      "metadata": {
        "colab": {
          "base_uri": "https://localhost:8080/"
        },
        "id": "_yhJMD__GKH8",
        "outputId": "06967300-ff9a-423c-994c-e02a5a5aa177"
      },
      "execution_count": null,
      "outputs": [
        {
          "output_type": "execute_result",
          "data": {
            "text/plain": [
              "{'Jan 1': 27,\n",
              " 'Jan 2': 31,\n",
              " 'Jan 3': 23,\n",
              " 'Jan 4': 34,\n",
              " 'Jan 5': 37,\n",
              " 'Jan 6': 38,\n",
              " 'Jan 7': 29,\n",
              " 'Jan 8': 30,\n",
              " 'Jan 9': 35,\n",
              " 'Jan 10': 30}"
            ]
          },
          "metadata": {},
          "execution_count": 56
        }
      ]
    },
    {
      "cell_type": "code",
      "source": [
        "weather_dict['Jan 9']"
      ],
      "metadata": {
        "colab": {
          "base_uri": "https://localhost:8080/"
        },
        "id": "yMFg2V_RFIve",
        "outputId": "11602f82-f543-4e04-ce20-7db28c62c9b2"
      },
      "execution_count": null,
      "outputs": [
        {
          "output_type": "execute_result",
          "data": {
            "text/plain": [
              "35"
            ]
          },
          "metadata": {},
          "execution_count": 58
        }
      ]
    },
    {
      "cell_type": "code",
      "source": [
        "weather_dict[\"Jan 4\"]"
      ],
      "metadata": {
        "colab": {
          "base_uri": "https://localhost:8080/"
        },
        "id": "bcsruCzeHYIV",
        "outputId": "03bd34e3-c9a5-4abd-983c-0041d992b43b"
      },
      "execution_count": null,
      "outputs": [
        {
          "output_type": "execute_result",
          "data": {
            "text/plain": [
              "34"
            ]
          },
          "metadata": {},
          "execution_count": 59
        }
      ]
    },
    {
      "cell_type": "code",
      "source": [
        "with open (\"poem.txt\",\"r\") as f:\n",
        "  for line in f:\n",
        "    print(line)"
      ],
      "metadata": {
        "colab": {
          "base_uri": "https://localhost:8080/"
        },
        "id": "0lYgiKkL1EM-",
        "outputId": "b4fba8d8-7f19-41c9-8a38-a2508f9d5b42"
      },
      "execution_count": 1,
      "outputs": [
        {
          "output_type": "stream",
          "name": "stdout",
          "text": [
            "Two roads diverged in a yellow wood,\n",
            "\n",
            "And sorry I could not travel both\n",
            "\n",
            "And be one traveler, long I stood\n",
            "\n",
            "And looked down one as far as I could\n",
            "\n",
            "To where it bent in the undergrowth;\n",
            "\n",
            "\n",
            "\n",
            "Then took the other, as just as fair,\n",
            "\n",
            "And having perhaps the better claim,\n",
            "\n",
            "Because it was grassy and wanted wear;\n",
            "\n",
            "Though as for that the passing there\n",
            "\n",
            "Had worn them really about the same,\n",
            "\n",
            "\n",
            "\n",
            "And both that morning equally lay\n",
            "\n",
            "In leaves no step had trodden black.\n",
            "\n",
            "Oh, I kept the first for another day!\n",
            "\n",
            "Yet knowing how way leads on to way,\n",
            "\n",
            "I doubted if I should ever come back.\n",
            "\n",
            "\n",
            "\n",
            "I shall be telling this with a sigh\n",
            "\n",
            "Somewhere ages and ages hence:\n",
            "\n",
            "Two roads diverged in a wood, and I—\n",
            "\n",
            "I took the one less traveled by,\n",
            "\n",
            "And that has made all the difference.\n"
          ]
        }
      ]
    },
    {
      "cell_type": "code",
      "source": [
        "word_count={}\n",
        "with open (\"poem.txt\",\"r\") as f:\n",
        "  for line in f:\n",
        "    tokens=line.split(\" \")\n",
        "    for token in tokens:\n",
        "      tokens=token.replace(\"/n\",\"\")\n",
        "      if token in word_count:\n",
        "        word_count[token]+=1\n",
        "      else:\n",
        "        word_count[token]=1"
      ],
      "metadata": {
        "id": "mikBtBgQ1f_n"
      },
      "execution_count": 5,
      "outputs": []
    },
    {
      "cell_type": "code",
      "source": [
        "word_count"
      ],
      "metadata": {
        "colab": {
          "base_uri": "https://localhost:8080/"
        },
        "id": "i-700aFn3c6r",
        "outputId": "04aa40cc-fc29-44a2-a329-340603c2ff5f"
      },
      "execution_count": 6,
      "outputs": [
        {
          "output_type": "execute_result",
          "data": {
            "text/plain": [
              "{'Two': 2,\n",
              " 'roads': 2,\n",
              " 'diverged': 2,\n",
              " 'in': 3,\n",
              " 'a': 3,\n",
              " 'yellow': 1,\n",
              " 'wood,\\n': 1,\n",
              " 'And': 6,\n",
              " 'sorry': 1,\n",
              " 'I': 8,\n",
              " 'could': 1,\n",
              " 'not': 1,\n",
              " 'travel': 1,\n",
              " 'both\\n': 1,\n",
              " 'be': 2,\n",
              " 'one': 3,\n",
              " 'traveler,': 1,\n",
              " 'long': 1,\n",
              " 'stood\\n': 1,\n",
              " 'looked': 1,\n",
              " 'down': 1,\n",
              " 'as': 5,\n",
              " 'far': 1,\n",
              " 'could\\n': 1,\n",
              " 'To': 1,\n",
              " 'where': 1,\n",
              " 'it': 2,\n",
              " 'bent': 1,\n",
              " 'the': 8,\n",
              " 'undergrowth;\\n': 1,\n",
              " '\\n': 3,\n",
              " 'Then': 1,\n",
              " 'took': 2,\n",
              " 'other,': 1,\n",
              " 'just': 1,\n",
              " 'fair,\\n': 1,\n",
              " 'having': 1,\n",
              " 'perhaps': 1,\n",
              " 'better': 1,\n",
              " 'claim,\\n': 1,\n",
              " 'Because': 1,\n",
              " 'was': 1,\n",
              " 'grassy': 1,\n",
              " 'and': 3,\n",
              " 'wanted': 1,\n",
              " 'wear;\\n': 1,\n",
              " 'Though': 1,\n",
              " 'for': 2,\n",
              " 'that': 3,\n",
              " 'passing': 1,\n",
              " 'there\\n': 1,\n",
              " 'Had': 1,\n",
              " 'worn': 1,\n",
              " 'them': 1,\n",
              " 'really': 1,\n",
              " 'about': 1,\n",
              " 'same,\\n': 1,\n",
              " 'both': 1,\n",
              " 'morning': 1,\n",
              " 'equally': 1,\n",
              " 'lay\\n': 1,\n",
              " 'In': 1,\n",
              " 'leaves': 1,\n",
              " 'no': 1,\n",
              " 'step': 1,\n",
              " 'had': 1,\n",
              " 'trodden': 1,\n",
              " 'black.\\n': 1,\n",
              " 'Oh,': 1,\n",
              " 'kept': 1,\n",
              " 'first': 1,\n",
              " 'another': 1,\n",
              " 'day!\\n': 1,\n",
              " 'Yet': 1,\n",
              " 'knowing': 1,\n",
              " 'how': 1,\n",
              " 'way': 1,\n",
              " 'leads': 1,\n",
              " 'on': 1,\n",
              " 'to': 1,\n",
              " 'way,\\n': 1,\n",
              " 'doubted': 1,\n",
              " 'if': 1,\n",
              " 'should': 1,\n",
              " 'ever': 1,\n",
              " 'come': 1,\n",
              " 'back.\\n': 1,\n",
              " 'shall': 1,\n",
              " 'telling': 1,\n",
              " 'this': 1,\n",
              " 'with': 1,\n",
              " 'sigh\\n': 1,\n",
              " 'Somewhere': 1,\n",
              " 'ages': 2,\n",
              " 'hence:\\n': 1,\n",
              " 'wood,': 1,\n",
              " 'I—\\n': 1,\n",
              " 'less': 1,\n",
              " 'traveled': 1,\n",
              " 'by,\\n': 1,\n",
              " 'has': 1,\n",
              " 'made': 1,\n",
              " 'all': 1,\n",
              " 'difference.': 1}"
            ]
          },
          "metadata": {},
          "execution_count": 6
        }
      ]
    },
    {
      "cell_type": "code",
      "source": [
        "class hash_table:\n",
        "  def __init__(self):\n",
        "    self.Max=10\n",
        "    self.arr=[None for i in range(self.Max)]\n",
        "\n",
        "  def get_hash(self,key):\n",
        "    h=0\n",
        "    for char in key:\n",
        "      h=h+ord(char)\n",
        "    return h%self.Max\n",
        "\n",
        "  def __getitem__(self,key):\n",
        "    h=self.get_hash(key)\n",
        "    if self.arr[h] is None:\n",
        "      return\n",
        "    prob_range=self.get_prob_range[h]\n",
        "    for prob_index in prob_range:\n",
        "      element=self.arr[prob_index]\n",
        "      if element is None:\n",
        "        return\n",
        "      if element[0]==key:\n",
        "        return element[1]\n",
        "  def __setitem__(self,key,val):\n",
        "    h=self.get_hash(key)\n",
        "    if self.arr[h] is None:\n",
        "      self.arr[h]=(key,val)\n",
        "    else:\n",
        "      new_h=get_find_slot(key,h)\n",
        "      self.arr[new_h]=(key,val)\n",
        "    print(self.arr)\n",
        "\n",
        "  def get_prob_range(self, index):\n",
        "        return [*range(index, len(self.arr))] + [*range(0,index)]\n",
        "\n",
        "  def find_slot(self, key, index):\n",
        "    prob_range = self.get_prob_range(index)\n",
        "    for prob_index in prob_range:\n",
        "      if self.arr[prob_index] is None:\n",
        "        return prob_index\n",
        "        if self.arr[prob_index][0] == key:\n",
        "          return prob_index\n",
        "          raise Exception(\"Hashmap full\")\n",
        "\n",
        "  def __delitem__(self, key):\n",
        "        h = self.get_hash(key)\n",
        "        prob_range = self.get_prob_range(h)\n",
        "        for prob_index in prob_range:\n",
        "            if self.arr[prob_index] is None:\n",
        "                return # item not found so return. You can also throw exception\n",
        "            if self.arr[prob_index][0] == key:\n",
        "                self.arr[prob_index]=None\n",
        "        print(self.arr)\n",
        "\n",
        "\n"
      ],
      "metadata": {
        "id": "qLOgxR6x4g2L"
      },
      "execution_count": 10,
      "outputs": []
    },
    {
      "cell_type": "code",
      "source": [
        "[*range(5,8)] + [*range(0,4)]"
      ],
      "metadata": {
        "colab": {
          "base_uri": "https://localhost:8080/"
        },
        "id": "YCqylseB-95-",
        "outputId": "1f9b12b4-9549-418d-9b26-9dc59432a07a"
      },
      "execution_count": 11,
      "outputs": [
        {
          "output_type": "execute_result",
          "data": {
            "text/plain": [
              "[5, 6, 7, 0, 1, 2, 3]"
            ]
          },
          "metadata": {},
          "execution_count": 11
        }
      ]
    }
  ]
}