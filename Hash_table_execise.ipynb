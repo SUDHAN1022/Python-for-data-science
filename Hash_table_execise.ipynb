{
  "nbformat": 4,
  "nbformat_minor": 0,
  "metadata": {
    "colab": {
      "provenance": [],
      "authorship_tag": "ABX9TyO9fejdd/9phpf3JDb5NAyY",
      "include_colab_link": true
    },
    "kernelspec": {
      "name": "python3",
      "display_name": "Python 3"
    },
    "language_info": {
      "name": "python"
    }
  },
  "cells": [
    {
      "cell_type": "markdown",
      "metadata": {
        "id": "view-in-github",
        "colab_type": "text"
      },
      "source": [
        "<a href=\"https://colab.research.google.com/github/SUDHAN1022/Python-for-data-science/blob/main/Hash_table_execise.ipynb\" target=\"_parent\"><img src=\"https://colab.research.google.com/assets/colab-badge.svg\" alt=\"Open In Colab\"/></a>"
      ]
    },
    {
      "cell_type": "code",
      "source": [
        "arr=[]\n",
        "\n",
        "with open(\"nyc_weather.csv\",\"r\") as f:\n",
        "  for line in f:\n",
        "    tokens=line.split(\",\")\n",
        "    try:\n",
        "      temperature=int(tokens[1])\n",
        "      arr.append(temperature)\n",
        "    except:\n",
        "      print(\"Invalid\")"
      ],
      "metadata": {
        "colab": {
          "base_uri": "https://localhost:8080/"
        },
        "id": "Wf4RDtNk8TRn",
        "outputId": "96b563ec-c6b0-4c1b-a3b0-c3b627609906"
      },
      "execution_count": 38,
      "outputs": [
        {
          "output_type": "stream",
          "name": "stdout",
          "text": [
            "Invalid\n"
          ]
        }
      ]
    },
    {
      "cell_type": "code",
      "source": [
        "arr"
      ],
      "metadata": {
        "colab": {
          "base_uri": "https://localhost:8080/"
        },
        "id": "7wBO3AVeC-Jc",
        "outputId": "74a711c1-dd1c-400b-ee8f-9b049817e81f"
      },
      "execution_count": 39,
      "outputs": [
        {
          "output_type": "execute_result",
          "data": {
            "text/plain": [
              "[27, 31, 23, 34, 37, 38, 29, 30, 35, 30]"
            ]
          },
          "metadata": {},
          "execution_count": 39
        }
      ]
    },
    {
      "cell_type": "code",
      "source": [
        "sum(arr[0:7])/7"
      ],
      "metadata": {
        "colab": {
          "base_uri": "https://localhost:8080/"
        },
        "id": "1DuCqEqmDtQW",
        "outputId": "fc85099a-b233-4da4-a492-ed78fb56b2fa"
      },
      "execution_count": 45,
      "outputs": [
        {
          "output_type": "execute_result",
          "data": {
            "text/plain": [
              "31.285714285714285"
            ]
          },
          "metadata": {},
          "execution_count": 45
        }
      ]
    },
    {
      "cell_type": "code",
      "source": [
        "max(arr[0:10])"
      ],
      "metadata": {
        "colab": {
          "base_uri": "https://localhost:8080/"
        },
        "id": "-fbIZbxcFB7i",
        "outputId": "492ab6d8-ecb2-4a63-d4dc-b004680054c3"
      },
      "execution_count": 46,
      "outputs": [
        {
          "output_type": "execute_result",
          "data": {
            "text/plain": [
              "38"
            ]
          },
          "metadata": {},
          "execution_count": 46
        }
      ]
    },
    {
      "cell_type": "markdown",
      "source": [
        "2.\n"
      ],
      "metadata": {
        "id": "8X-HKcohFZZb"
      }
    },
    {
      "cell_type": "code",
      "source": [
        "weather_dict={}\n",
        "\n",
        "with open (\"nyc_weather.csv\",\"r\") as f:\n",
        "  for line in f:\n",
        "    tokens=line.split(\",\")\n",
        "    day=tokens[0]\n",
        "    try:\n",
        "      temperature=int(tokens[1])\n",
        "      weather_dict[day]=temperature\n",
        "    except:\n",
        "      print(\"Invalid temperature\")"
      ],
      "metadata": {
        "colab": {
          "base_uri": "https://localhost:8080/"
        },
        "id": "smiBTS14Fayc",
        "outputId": "6fb0392f-1fd6-4d16-9f9a-e684b6f66d23"
      },
      "execution_count": 53,
      "outputs": [
        {
          "output_type": "stream",
          "name": "stdout",
          "text": [
            "Invalid temperature\n"
          ]
        }
      ]
    },
    {
      "cell_type": "code",
      "source": [
        "weather_dict"
      ],
      "metadata": {
        "colab": {
          "base_uri": "https://localhost:8080/"
        },
        "id": "_yhJMD__GKH8",
        "outputId": "06967300-ff9a-423c-994c-e02a5a5aa177"
      },
      "execution_count": 56,
      "outputs": [
        {
          "output_type": "execute_result",
          "data": {
            "text/plain": [
              "{'Jan 1': 27,\n",
              " 'Jan 2': 31,\n",
              " 'Jan 3': 23,\n",
              " 'Jan 4': 34,\n",
              " 'Jan 5': 37,\n",
              " 'Jan 6': 38,\n",
              " 'Jan 7': 29,\n",
              " 'Jan 8': 30,\n",
              " 'Jan 9': 35,\n",
              " 'Jan 10': 30}"
            ]
          },
          "metadata": {},
          "execution_count": 56
        }
      ]
    },
    {
      "cell_type": "code",
      "source": [
        "weather_dict['Jan 9']"
      ],
      "metadata": {
        "colab": {
          "base_uri": "https://localhost:8080/"
        },
        "id": "yMFg2V_RFIve",
        "outputId": "11602f82-f543-4e04-ce20-7db28c62c9b2"
      },
      "execution_count": 58,
      "outputs": [
        {
          "output_type": "execute_result",
          "data": {
            "text/plain": [
              "35"
            ]
          },
          "metadata": {},
          "execution_count": 58
        }
      ]
    },
    {
      "cell_type": "code",
      "source": [
        "weather_dict[\"Jan 4\"]"
      ],
      "metadata": {
        "colab": {
          "base_uri": "https://localhost:8080/"
        },
        "id": "bcsruCzeHYIV",
        "outputId": "03bd34e3-c9a5-4abd-983c-0041d992b43b"
      },
      "execution_count": 59,
      "outputs": [
        {
          "output_type": "execute_result",
          "data": {
            "text/plain": [
              "34"
            ]
          },
          "metadata": {},
          "execution_count": 59
        }
      ]
    }
  ]
}