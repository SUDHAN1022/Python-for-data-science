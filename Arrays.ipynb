{
  "nbformat": 4,
  "nbformat_minor": 0,
  "metadata": {
    "colab": {
      "provenance": [],
      "authorship_tag": "ABX9TyM3J+1BlzjI4zdGBWRlH6O9",
      "include_colab_link": true
    },
    "kernelspec": {
      "name": "python3",
      "display_name": "Python 3"
    },
    "language_info": {
      "name": "python"
    }
  },
  "cells": [
    {
      "cell_type": "markdown",
      "metadata": {
        "id": "view-in-github",
        "colab_type": "text"
      },
      "source": [
        "<a href=\"https://colab.research.google.com/github/SUDHAN1022/Python-for-data-science/blob/main/Arrays.ipynb\" target=\"_parent\"><img src=\"https://colab.research.google.com/assets/colab-badge.svg\" alt=\"Open In Colab\"/></a>"
      ]
    },
    {
      "cell_type": "markdown",
      "source": [
        "# ARRAY EXERCISE"
      ],
      "metadata": {
        "id": "7Zt8jzT9dnRT"
      }
    },
    {
      "cell_type": "code",
      "execution_count": 3,
      "metadata": {
        "colab": {
          "base_uri": "https://localhost:8080/"
        },
        "id": "lRR7uVf-dmLq",
        "outputId": "ab645272-e106-4bd7-e246-afc23c9a3223"
      },
      "outputs": [
        {
          "output_type": "stream",
          "name": "stdout",
          "text": [
            "In Feb, that dollars you spent extra compare to January is 150\n"
          ]
        }
      ],
      "source": [
        "ep=[2200,2350,2600,2130,2190]\n",
        "print( \"In Feb, that dollars you spent extra compare to January is\",ep[1]-ep[0])\n",
        "\n",
        "#Find out your total expense in first quarter (first three months) of the year.\n"
      ]
    },
    {
      "cell_type": "code",
      "source": [
        "print(\"total expense in first quarter (first three months) of the year is\",ep[0]+ep[1]+ep[2])"
      ],
      "metadata": {
        "colab": {
          "base_uri": "https://localhost:8080/"
        },
        "id": "bPfwkH4efQY7",
        "outputId": "cdc6590e-25d9-459c-d8ca-82aae0e54d29"
      },
      "execution_count": 5,
      "outputs": [
        {
          "output_type": "stream",
          "name": "stdout",
          "text": [
            "total expense in first quarter (first three months) of the year is 7150\n"
          ]
        }
      ]
    },
    {
      "cell_type": "code",
      "source": [
        " #Find out if you spent exactly 2000 dollars in any month\n",
        "for i in ep:\n",
        "  if i==2000:\n",
        "    print(i)\n",
        "  else:\n",
        "    print(i,\"no month match to 2000\")\n",
        "\n"
      ],
      "metadata": {
        "colab": {
          "base_uri": "https://localhost:8080/"
        },
        "id": "M9pgpQkrfbKO",
        "outputId": "aca36a52-513a-4318-ff3d-273c3983bd33"
      },
      "execution_count": 10,
      "outputs": [
        {
          "output_type": "stream",
          "name": "stdout",
          "text": [
            "2200 no month match to 2000\n",
            "2350 no month match to 2000\n",
            "2600 no month match to 2000\n",
            "2130 no month match to 2000\n",
            "2190 no month match to 2000\n"
          ]
        }
      ]
    },
    {
      "cell_type": "code",
      "source": [
        "exp=[2200,2350,2600,2130,2190]\n",
        "\n",
        "print(\"Did I spent 2000$ in any month? \", 2000 in exp)"
      ],
      "metadata": {
        "colab": {
          "base_uri": "https://localhost:8080/"
        },
        "id": "i9mS_TEmgr-w",
        "outputId": "b0b5dfdd-3a93-4186-e83a-9256e21ea141"
      },
      "execution_count": 13,
      "outputs": [
        {
          "output_type": "stream",
          "name": "stdout",
          "text": [
            "Did I spent 2000$ in any month?  False\n"
          ]
        }
      ]
    },
    {
      "cell_type": "code",
      "source": [
        "#4. June month just finished and your expense is 1980 dollar. Add this item to our monthly expense list\n",
        "\n",
        "exp=[2200,2350,2600,2130,2190]\n",
        "exp.append(1980)\n",
        "print(exp)"
      ],
      "metadata": {
        "colab": {
          "base_uri": "https://localhost:8080/"
        },
        "id": "qsuH365jhEcN",
        "outputId": "642a67b9-4913-466b-84e9-06c2ba51ce56"
      },
      "execution_count": 16,
      "outputs": [
        {
          "output_type": "stream",
          "name": "stdout",
          "text": [
            "[2200, 2350, 2600, 2130, 2190, 1980]\n"
          ]
        }
      ]
    },
    {
      "cell_type": "code",
      "source": [
        "#You returned an item that you bought in a month of April and\n",
        "# got a refund of 200$. Make a correction to your monthly expense list\n",
        "# based on this\n",
        "exp=[2200, 2350, 2600, 2130, 2190, 1980]\n",
        "exp[3]=exp[3]-200\n",
        "print(exp)\n"
      ],
      "metadata": {
        "colab": {
          "base_uri": "https://localhost:8080/"
        },
        "id": "TvUH2shohmFp",
        "outputId": "5558198e-6144-4f90-fa73-2e797bb89c20"
      },
      "execution_count": 21,
      "outputs": [
        {
          "output_type": "stream",
          "name": "stdout",
          "text": [
            "[2200, 2350, 2600, 1930, 2190, 1980]\n"
          ]
        }
      ]
    }
  ]
}