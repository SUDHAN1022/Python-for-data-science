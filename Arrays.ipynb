{
  "nbformat": 4,
  "nbformat_minor": 0,
  "metadata": {
    "colab": {
      "provenance": [],
      "authorship_tag": "ABX9TyP5gBfm2CSGQKINSQJQRFnz",
      "include_colab_link": true
    },
    "kernelspec": {
      "name": "python3",
      "display_name": "Python 3"
    },
    "language_info": {
      "name": "python"
    }
  },
  "cells": [
    {
      "cell_type": "markdown",
      "metadata": {
        "id": "view-in-github",
        "colab_type": "text"
      },
      "source": [
        "<a href=\"https://colab.research.google.com/github/SUDHAN1022/Python-for-data-science/blob/main/Arrays.ipynb\" target=\"_parent\"><img src=\"https://colab.research.google.com/assets/colab-badge.svg\" alt=\"Open In Colab\"/></a>"
      ]
    },
    {
      "cell_type": "markdown",
      "source": [
        "# ARRAY EXERCISE"
      ],
      "metadata": {
        "id": "7Zt8jzT9dnRT"
      }
    },
    {
      "cell_type": "code",
      "execution_count": null,
      "metadata": {
        "colab": {
          "base_uri": "https://localhost:8080/"
        },
        "id": "lRR7uVf-dmLq",
        "outputId": "ab645272-e106-4bd7-e246-afc23c9a3223"
      },
      "outputs": [
        {
          "output_type": "stream",
          "name": "stdout",
          "text": [
            "In Feb, that dollars you spent extra compare to January is 150\n"
          ]
        }
      ],
      "source": [
        "ep=[2200,2350,2600,2130,2190]\n",
        "print( \"In Feb, that dollars you spent extra compare to January is\",ep[1]-ep[0])\n",
        "\n",
        "#Find out your total expense in first quarter (first three months) of the year.\n"
      ]
    },
    {
      "cell_type": "code",
      "source": [
        "print(\"total expense in first quarter (first three months) of the year is\",ep[0]+ep[1]+ep[2])"
      ],
      "metadata": {
        "colab": {
          "base_uri": "https://localhost:8080/"
        },
        "id": "bPfwkH4efQY7",
        "outputId": "cdc6590e-25d9-459c-d8ca-82aae0e54d29"
      },
      "execution_count": null,
      "outputs": [
        {
          "output_type": "stream",
          "name": "stdout",
          "text": [
            "total expense in first quarter (first three months) of the year is 7150\n"
          ]
        }
      ]
    },
    {
      "cell_type": "code",
      "source": [
        " #Find out if you spent exactly 2000 dollars in any month\n",
        "for i in ep:\n",
        "  if i==2000:\n",
        "    print(i)\n",
        "  else:\n",
        "    print(i,\"no month match to 2000\")\n",
        "\n"
      ],
      "metadata": {
        "colab": {
          "base_uri": "https://localhost:8080/"
        },
        "id": "M9pgpQkrfbKO",
        "outputId": "aca36a52-513a-4318-ff3d-273c3983bd33"
      },
      "execution_count": null,
      "outputs": [
        {
          "output_type": "stream",
          "name": "stdout",
          "text": [
            "2200 no month match to 2000\n",
            "2350 no month match to 2000\n",
            "2600 no month match to 2000\n",
            "2130 no month match to 2000\n",
            "2190 no month match to 2000\n"
          ]
        }
      ]
    },
    {
      "cell_type": "code",
      "source": [
        "exp=[2200,2350,2600,2130,2190]\n",
        "\n",
        "print(\"Did I spent 2000$ in any month? \", 2000 in exp)"
      ],
      "metadata": {
        "colab": {
          "base_uri": "https://localhost:8080/"
        },
        "id": "i9mS_TEmgr-w",
        "outputId": "b0b5dfdd-3a93-4186-e83a-9256e21ea141"
      },
      "execution_count": null,
      "outputs": [
        {
          "output_type": "stream",
          "name": "stdout",
          "text": [
            "Did I spent 2000$ in any month?  False\n"
          ]
        }
      ]
    },
    {
      "cell_type": "code",
      "source": [
        "#4. June month just finished and your expense is 1980 dollar. Add this item to our monthly expense list\n",
        "\n",
        "exp=[2200,2350,2600,2130,2190]\n",
        "exp.append(1980)\n",
        "print(exp)"
      ],
      "metadata": {
        "colab": {
          "base_uri": "https://localhost:8080/"
        },
        "id": "qsuH365jhEcN",
        "outputId": "642a67b9-4913-466b-84e9-06c2ba51ce56"
      },
      "execution_count": null,
      "outputs": [
        {
          "output_type": "stream",
          "name": "stdout",
          "text": [
            "[2200, 2350, 2600, 2130, 2190, 1980]\n"
          ]
        }
      ]
    },
    {
      "cell_type": "code",
      "source": [
        "#You returned an item that you bought in a month of April and\n",
        "# got a refund of 200$. Make a correction to your monthly expense list\n",
        "# based on this\n",
        "exp=[2200, 2350, 2600, 2130, 2190, 1980]\n",
        "exp[3]=exp[3]-200\n",
        "print(exp)\n"
      ],
      "metadata": {
        "colab": {
          "base_uri": "https://localhost:8080/"
        },
        "id": "TvUH2shohmFp",
        "outputId": "5558198e-6144-4f90-fa73-2e797bb89c20"
      },
      "execution_count": null,
      "outputs": [
        {
          "output_type": "stream",
          "name": "stdout",
          "text": [
            "[2200, 2350, 2600, 1930, 2190, 1980]\n"
          ]
        }
      ]
    },
    {
      "cell_type": "markdown",
      "source": [
        "2.heros=['spider man','thor','hulk','iron man','captain america']"
      ],
      "metadata": {
        "id": "78nAXttUy-YP"
      }
    },
    {
      "cell_type": "code",
      "source": [
        "heros=['spider man','thor','hulk','iron man','captain america']\n",
        "print(len(heros))"
      ],
      "metadata": {
        "colab": {
          "base_uri": "https://localhost:8080/"
        },
        "id": "JTKBay6FzAku",
        "outputId": "d8d3c025-4107-4e32-90c1-4051088432b4"
      },
      "execution_count": 2,
      "outputs": [
        {
          "output_type": "stream",
          "name": "stdout",
          "text": [
            "5\n"
          ]
        }
      ]
    },
    {
      "cell_type": "code",
      "source": [
        "heros=['spider man','thor','hulk','iron man','captain america']\n",
        "heros.append(\"black panther\")\n",
        "print(heros)"
      ],
      "metadata": {
        "colab": {
          "base_uri": "https://localhost:8080/"
        },
        "id": "E2X73xd6zK_s",
        "outputId": "b3376919-2e77-47b7-d2ae-70acff73e7f1"
      },
      "execution_count": 5,
      "outputs": [
        {
          "output_type": "stream",
          "name": "stdout",
          "text": [
            "['spider man', 'thor', 'hulk', 'iron man', 'captain america', 'black panther']\n"
          ]
        }
      ]
    },
    {
      "cell_type": "code",
      "source": [
        "heros=['spider man','thor','hulk','iron man','captain america', 'black panther']\n",
        "heros.remove(\"black panther\")\n",
        "heros.insert(3,\"black panther\")\n",
        "print(heros)"
      ],
      "metadata": {
        "colab": {
          "base_uri": "https://localhost:8080/"
        },
        "id": "szNt2CJTzLeR",
        "outputId": "008769ea-8ac8-400d-fa48-c72887992618"
      },
      "execution_count": 8,
      "outputs": [
        {
          "output_type": "stream",
          "name": "stdout",
          "text": [
            "['spider man', 'thor', 'hulk', 'black panther', 'iron man', 'captain america']\n"
          ]
        }
      ]
    },
    {
      "cell_type": "code",
      "source": [
        "heros=['spider man','thor','hulk','iron man','captain america', 'black panther']\n",
        "heros[1:3]=[\"doctor strange\"]\n",
        "print(heros)"
      ],
      "metadata": {
        "colab": {
          "base_uri": "https://localhost:8080/"
        },
        "id": "jk6dGudh0KgL",
        "outputId": "64218031-604c-4be6-d943-6a9ab2fcb768"
      },
      "execution_count": 12,
      "outputs": [
        {
          "output_type": "stream",
          "name": "stdout",
          "text": [
            "['spider man', 'doctor strange', 'iron man', 'captain america', 'black panther']\n"
          ]
        }
      ]
    },
    {
      "cell_type": "code",
      "source": [
        "heros.sort()\n",
        "print(heros)"
      ],
      "metadata": {
        "colab": {
          "base_uri": "https://localhost:8080/"
        },
        "id": "EGT1Iv_P0ThP",
        "outputId": "4fb4eff2-ab98-45fe-e8c4-7e58be5b8f0f"
      },
      "execution_count": 14,
      "outputs": [
        {
          "output_type": "stream",
          "name": "stdout",
          "text": [
            "['black panther', 'captain america', 'doctor strange', 'iron man', 'spider man']\n"
          ]
        }
      ]
    },
    {
      "cell_type": "markdown",
      "source": [
        "#3.Create a list of all odd numbers between 1 and a max number. Max number is something you need to take from a user using input() function"
      ],
      "metadata": {
        "id": "K20epIuA0uLk"
      }
    },
    {
      "cell_type": "code",
      "source": [
        "a=[]\n",
        "max_number=int(input(\"Enter the max number:\"))\n",
        "for i in range(1,max_number):\n",
        "  if i%2!=0:\n",
        "    a.append(i)\n",
        "\n",
        "print(a)\n"
      ],
      "metadata": {
        "colab": {
          "base_uri": "https://localhost:8080/"
        },
        "id": "hqEoKC870vlk",
        "outputId": "ea18f089-7a5a-4be4-a088-c4438fdaaae3"
      },
      "execution_count": 16,
      "outputs": [
        {
          "output_type": "stream",
          "name": "stdout",
          "text": [
            "Enter the max number:10\n",
            "[1, 3, 5, 7, 9]\n"
          ]
        }
      ]
    },
    {
      "cell_type": "code",
      "source": [
        "max = int(input(\"Enter max number: \"))\n",
        "\n",
        "odd_numbers = []\n",
        "\n",
        "for i in range(1, max):\n",
        "    if i % 2 == 1:\n",
        "        odd_numbers.append(i)\n",
        "\n",
        "print(\"Odd numbers: \", odd_numbers)"
      ],
      "metadata": {
        "colab": {
          "base_uri": "https://localhost:8080/"
        },
        "id": "hHyNDQ4t2I4r",
        "outputId": "bf7771dd-a8ef-4c91-a26d-cf05a28c1e43"
      },
      "execution_count": 17,
      "outputs": [
        {
          "output_type": "stream",
          "name": "stdout",
          "text": [
            "Enter max number: 10\n",
            "Odd numbers:  [1, 3, 5, 7, 9]\n"
          ]
        }
      ]
    }
  ]
}