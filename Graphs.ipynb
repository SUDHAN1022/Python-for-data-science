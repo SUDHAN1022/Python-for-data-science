{
  "nbformat": 4,
  "nbformat_minor": 0,
  "metadata": {
    "colab": {
      "provenance": [],
      "authorship_tag": "ABX9TyMy3R+ArxGEyhb2KDMVJwl8",
      "include_colab_link": true
    },
    "kernelspec": {
      "name": "python3",
      "display_name": "Python 3"
    },
    "language_info": {
      "name": "python"
    }
  },
  "cells": [
    {
      "cell_type": "markdown",
      "metadata": {
        "id": "view-in-github",
        "colab_type": "text"
      },
      "source": [
        "<a href=\"https://colab.research.google.com/github/SUDHAN1022/Python-for-data-science/blob/main/Graphs.ipynb\" target=\"_parent\"><img src=\"https://colab.research.google.com/assets/colab-badge.svg\" alt=\"Open In Colab\"/></a>"
      ]
    },
    {
      "cell_type": "code",
      "execution_count": 18,
      "metadata": {
        "colab": {
          "base_uri": "https://localhost:8080/"
        },
        "id": "bS9OHyhmRgnl",
        "outputId": "af83ea4c-3211-43c9-b1ff-47b1e453a738"
      },
      "outputs": [
        {
          "output_type": "stream",
          "name": "stdout",
          "text": [
            "Routes_Graph: {'Mumbai': ['Paris', 'Dubai'], 'Paris': ['Dubai', 'Newyork'], 'Dubai': ['Newyork'], 'Newyork': ['Tornoto']}\n",
            "shorest_path is start from Mumbai  and end at Newyork: ['Mumbai', 'Paris', 'Newyork']\n"
          ]
        }
      ],
      "source": [
        "class graph:\n",
        "  def __init__(self,edges):\n",
        "    self.edges=edges\n",
        "    self.graph_dict={}\n",
        "    for start,end in self.edges:\n",
        "      if start in self.graph_dict:\n",
        "        self.graph_dict[start].append(end)\n",
        "      else:\n",
        "        self.graph_dict[start]=[end]\n",
        "\n",
        "    print(\"Routes_Graph:\",self.graph_dict)\n",
        "\n",
        "\n",
        "  def get_path(self,start,end,path=[]):\n",
        "    path=path+[start]\n",
        "\n",
        "    if start==end:\n",
        "      return [path]\n",
        "\n",
        "    if start not in self.graph_dict:\n",
        "      return []\n",
        "\n",
        "    paths=[]\n",
        "\n",
        "    for node in self.graph_dict[start]:\n",
        "      if node not in path:\n",
        "        new_paths=self.get_path(node,end,path)\n",
        "        for p in new_paths:\n",
        "          paths.append(p)\n",
        "\n",
        "    return paths\n",
        "\n",
        "  def get_shortest_path(self,start,end,path=[]):\n",
        "    path=path+[start]\n",
        "\n",
        "    if start==end:\n",
        "      return path\n",
        "\n",
        "    if start not in self.graph_dict:\n",
        "      return None\n",
        "\n",
        "    shortest_path=None\n",
        "\n",
        "    for node in self.graph_dict[start]:\n",
        "      if node not in path:\n",
        "        sp=self.get_shortest_path(node,end,path)\n",
        "        if sp:\n",
        "          if shortest_path is None or len(sp) < len(shortest_path):\n",
        "            shortest_path=sp\n",
        "\n",
        "    return shortest_path\n",
        "\n",
        "\n",
        "\n",
        "\n",
        "if __name__==\"__main__\":\n",
        "   routes=[\n",
        "      (\"Mumbai\",\"Paris\"),\n",
        "      (\"Mumbai\",\"Dubai\"),\n",
        "      (\"Paris\",\"Dubai\"),\n",
        "       (\"Paris\",\"Newyork\"),\n",
        "      (\"Dubai\",\"Newyork\"),\n",
        "      (\"Newyork\",\"Tornoto\"),\n",
        "  ]\n",
        "\n",
        "\n",
        "route_graph=graph(routes)\n",
        "\n",
        "start=\"Mumbai\"\n",
        "end=\"Newyork\"\n",
        "\n",
        "print(f\"shorest_path is start from {start}  and end at {end}:\",route_graph.get_shortest_path(start,end))\n",
        "\n",
        "\n",
        "\n"
      ]
    }
  ]
}