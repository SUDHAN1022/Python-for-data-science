{
  "nbformat": 4,
  "nbformat_minor": 0,
  "metadata": {
    "colab": {
      "provenance": [],
      "authorship_tag": "ABX9TyPiu9jy2nOrpfSnd3Hq9J0G",
      "include_colab_link": true
    },
    "kernelspec": {
      "name": "python3",
      "display_name": "Python 3"
    },
    "language_info": {
      "name": "python"
    }
  },
  "cells": [
    {
      "cell_type": "markdown",
      "metadata": {
        "id": "view-in-github",
        "colab_type": "text"
      },
      "source": [
        "<a href=\"https://colab.research.google.com/github/SUDHAN1022/Python-for-data-science/blob/main/Queue.ipynb\" target=\"_parent\"><img src=\"https://colab.research.google.com/assets/colab-badge.svg\" alt=\"Open In Colab\"/></a>"
      ]
    },
    {
      "cell_type": "code",
      "execution_count": 1,
      "metadata": {
        "id": "G26UdD00IIJX"
      },
      "outputs": [],
      "source": [
        "from collections import deque\n",
        "\n",
        "class queue:\n",
        "  def __init__(self):\n",
        "    self.buffer=deque()\n",
        "\n",
        "  def enqueue(self,val):\n",
        "    self.buffer.appendleft(val)\n",
        "\n",
        "  def dequeue(self):\n",
        "    return self.buffer.pop()\n",
        "\n",
        "  def isempty(self):\n",
        "    return len(self.buffer)==0\n",
        "\n",
        "  def size(self):\n",
        "    return len(self.buffer)"
      ]
    },
    {
      "cell_type": "code",
      "source": [
        "pq=queue()\n",
        "pq.enqueue({\n",
        "    'Company':'HP',\n",
        "    'Time stamp':'12 Aprl , 11:01 Am',\n",
        "    'Price':134.10\n",
        "})\n",
        "pq.enqueue({\n",
        "    'Company':'HP',\n",
        "    'Time stamp':'12 Aprl , 11:02 Am',\n",
        "    'Price':137.40\n",
        "})\n",
        "pq.enqueue({\n",
        "    'Company':'HP',\n",
        "    'Time stamp':'12 Aprl , 11:03 Am',\n",
        "    'Price':140.30\n",
        "})"
      ],
      "metadata": {
        "id": "UwAgBRjUI1sr"
      },
      "execution_count": 3,
      "outputs": []
    },
    {
      "cell_type": "code",
      "source": [
        "pq.buffer"
      ],
      "metadata": {
        "colab": {
          "base_uri": "https://localhost:8080/"
        },
        "id": "UICIG9dQJ5Oq",
        "outputId": "53251b47-51d2-424a-e0d7-008e0807a0a0"
      },
      "execution_count": 7,
      "outputs": [
        {
          "output_type": "execute_result",
          "data": {
            "text/plain": [
              "deque([{'Company': 'HP', 'Time stamp': '12 Aprl , 11:03 Am', 'Price': 140.3},\n",
              "       {'Company': 'HP', 'Time stamp': '12 Aprl , 11:02 Am', 'Price': 137.4},\n",
              "       {'Company': 'HP', 'Time stamp': '12 Aprl , 11:01 Am', 'Price': 134.1}])"
            ]
          },
          "metadata": {},
          "execution_count": 7
        }
      ]
    },
    {
      "cell_type": "code",
      "source": [
        "pq.dequeue()"
      ],
      "metadata": {
        "colab": {
          "base_uri": "https://localhost:8080/"
        },
        "id": "VqAx4THgKh8V",
        "outputId": "d44ab21e-9dfa-4b1f-985c-6b7e65ddf786"
      },
      "execution_count": 8,
      "outputs": [
        {
          "output_type": "execute_result",
          "data": {
            "text/plain": [
              "{'Company': 'HP', 'Time stamp': '12 Aprl , 11:01 Am', 'Price': 134.1}"
            ]
          },
          "metadata": {},
          "execution_count": 8
        }
      ]
    },
    {
      "cell_type": "code",
      "source": [
        "pq.buffer"
      ],
      "metadata": {
        "colab": {
          "base_uri": "https://localhost:8080/"
        },
        "id": "T7Uuh8_mKm7d",
        "outputId": "cec98d2f-745b-4367-b66e-a735907de30f"
      },
      "execution_count": 9,
      "outputs": [
        {
          "output_type": "execute_result",
          "data": {
            "text/plain": [
              "deque([{'Company': 'HP', 'Time stamp': '12 Aprl , 11:03 Am', 'Price': 140.3},\n",
              "       {'Company': 'HP', 'Time stamp': '12 Aprl , 11:02 Am', 'Price': 137.4}])"
            ]
          },
          "metadata": {},
          "execution_count": 9
        }
      ]
    },
    {
      "cell_type": "code",
      "source": [
        "pq.size()"
      ],
      "metadata": {
        "colab": {
          "base_uri": "https://localhost:8080/"
        },
        "id": "VQBQDUA6KpMc",
        "outputId": "d451931e-ddca-4efc-8a93-1f70deedd49f"
      },
      "execution_count": 11,
      "outputs": [
        {
          "output_type": "execute_result",
          "data": {
            "text/plain": [
              "2"
            ]
          },
          "metadata": {},
          "execution_count": 11
        }
      ]
    },
    {
      "cell_type": "code",
      "source": [
        "pq.isempty()"
      ],
      "metadata": {
        "colab": {
          "base_uri": "https://localhost:8080/"
        },
        "id": "dRsH055HKuVv",
        "outputId": "868bf89d-3112-4946-bcf5-87a56f8581b1"
      },
      "execution_count": 12,
      "outputs": [
        {
          "output_type": "execute_result",
          "data": {
            "text/plain": [
              "False"
            ]
          },
          "metadata": {},
          "execution_count": 12
        }
      ]
    },
    {
      "cell_type": "code",
      "source": [
        "pq.dequeue()"
      ],
      "metadata": {
        "colab": {
          "base_uri": "https://localhost:8080/",
          "height": 263
        },
        "id": "aPR-seheKyNq",
        "outputId": "ef874de1-8d4e-4e02-ae9c-d03c94d929ef"
      },
      "execution_count": 18,
      "outputs": [
        {
          "output_type": "error",
          "ename": "IndexError",
          "evalue": "pop from an empty deque",
          "traceback": [
            "\u001b[0;31m---------------------------------------------------------------------------\u001b[0m",
            "\u001b[0;31mIndexError\u001b[0m                                Traceback (most recent call last)",
            "\u001b[0;32m<ipython-input-18-e9bd26194ba1>\u001b[0m in \u001b[0;36m<cell line: 1>\u001b[0;34m()\u001b[0m\n\u001b[0;32m----> 1\u001b[0;31m \u001b[0mpq\u001b[0m\u001b[0;34m.\u001b[0m\u001b[0mdequeue\u001b[0m\u001b[0;34m(\u001b[0m\u001b[0;34m)\u001b[0m\u001b[0;34m\u001b[0m\u001b[0;34m\u001b[0m\u001b[0m\n\u001b[0m",
            "\u001b[0;32m<ipython-input-1-b9ae863deece>\u001b[0m in \u001b[0;36mdequeue\u001b[0;34m(self)\u001b[0m\n\u001b[1;32m      9\u001b[0m \u001b[0;34m\u001b[0m\u001b[0m\n\u001b[1;32m     10\u001b[0m   \u001b[0;32mdef\u001b[0m \u001b[0mdequeue\u001b[0m\u001b[0;34m(\u001b[0m\u001b[0mself\u001b[0m\u001b[0;34m)\u001b[0m\u001b[0;34m:\u001b[0m\u001b[0;34m\u001b[0m\u001b[0;34m\u001b[0m\u001b[0m\n\u001b[0;32m---> 11\u001b[0;31m     \u001b[0;32mreturn\u001b[0m \u001b[0mself\u001b[0m\u001b[0;34m.\u001b[0m\u001b[0mbuffer\u001b[0m\u001b[0;34m.\u001b[0m\u001b[0mpop\u001b[0m\u001b[0;34m(\u001b[0m\u001b[0;34m)\u001b[0m\u001b[0;34m\u001b[0m\u001b[0;34m\u001b[0m\u001b[0m\n\u001b[0m\u001b[1;32m     12\u001b[0m \u001b[0;34m\u001b[0m\u001b[0m\n\u001b[1;32m     13\u001b[0m   \u001b[0;32mdef\u001b[0m \u001b[0misempty\u001b[0m\u001b[0;34m(\u001b[0m\u001b[0mself\u001b[0m\u001b[0;34m)\u001b[0m\u001b[0;34m:\u001b[0m\u001b[0;34m\u001b[0m\u001b[0;34m\u001b[0m\u001b[0m\n",
            "\u001b[0;31mIndexError\u001b[0m: pop from an empty deque"
          ]
        }
      ]
    },
    {
      "cell_type": "code",
      "source": [
        "pq.isempty()"
      ],
      "metadata": {
        "colab": {
          "base_uri": "https://localhost:8080/"
        },
        "id": "ALjLalFWK5IS",
        "outputId": "9368f5b0-1cb5-46e6-ad20-2b847f5d94d9"
      },
      "execution_count": 19,
      "outputs": [
        {
          "output_type": "execute_result",
          "data": {
            "text/plain": [
              "True"
            ]
          },
          "metadata": {},
          "execution_count": 19
        }
      ]
    }
  ]
}