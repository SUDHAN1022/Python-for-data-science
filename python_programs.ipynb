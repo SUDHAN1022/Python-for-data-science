{
  "nbformat": 4,
  "nbformat_minor": 0,
  "metadata": {
    "colab": {
      "provenance": [],
      "authorship_tag": "ABX9TyNI+0sBcVZIBymRM78qy4l3",
      "include_colab_link": true
    },
    "kernelspec": {
      "name": "python3",
      "display_name": "Python 3"
    },
    "language_info": {
      "name": "python"
    }
  },
  "cells": [
    {
      "cell_type": "markdown",
      "metadata": {
        "id": "view-in-github",
        "colab_type": "text"
      },
      "source": [
        "<a href=\"https://colab.research.google.com/github/SUDHAN1022/Python-for-data-science/blob/main/python_programs.ipynb\" target=\"_parent\"><img src=\"https://colab.research.google.com/assets/colab-badge.svg\" alt=\"Open In Colab\"/></a>"
      ]
    },
    {
      "cell_type": "code",
      "execution_count": 11,
      "metadata": {
        "colab": {
          "base_uri": "https://localhost:8080/"
        },
        "id": "eNXjjRZDgw85",
        "outputId": "a148d241-038a-466e-84b7-f9e4e9c635d4"
      },
      "outputs": [
        {
          "output_type": "stream",
          "name": "stdout",
          "text": [
            "0\n",
            "1\n",
            "2\n",
            "3\n",
            "4\n",
            "5\n",
            "6\n",
            "7\n",
            "8\n",
            "9\n",
            "153\n",
            "370\n",
            "371\n",
            "407\n"
          ]
        }
      ],
      "source": [
        "#AMSTRONG NUMBER\n",
        "\n",
        "for i in range(1001):\n",
        "  num=i\n",
        "  result=0\n",
        "  n=len(str(i))\n",
        "  while(i!=0):\n",
        "    digit=i%10\n",
        "    result=result+digit**n\n",
        "    i=i//10\n",
        "  if num==result:\n",
        "    print(num)"
      ]
    },
    {
      "cell_type": "code",
      "source": [
        "n=int(input(\"Enter the number of rows:\"))\n",
        "for i in range(1,n+1):\n",
        "  for j in range(1,i+1):\n",
        "    print(j,end=\"\")\n",
        "  print()"
      ],
      "metadata": {
        "colab": {
          "base_uri": "https://localhost:8080/"
        },
        "id": "gm2falTbmJjo",
        "outputId": "55bfbb82-c6fb-4dbe-f61a-e0e96215b458"
      },
      "execution_count": 15,
      "outputs": [
        {
          "output_type": "stream",
          "name": "stdout",
          "text": [
            "Enter the number of rows:5\n",
            "1\n",
            "12\n",
            "123\n",
            "1234\n",
            "12345\n"
          ]
        }
      ]
    },
    {
      "cell_type": "code",
      "source": [
        "n=int(input(\"Enter number of rows:\"))\n",
        "for i in range(1,n+1):\n",
        "  for j in range(1,i+1):\n",
        "    print(i,end=\"\")\n",
        "  print()"
      ],
      "metadata": {
        "colab": {
          "base_uri": "https://localhost:8080/"
        },
        "id": "gpUHnpb0qydd",
        "outputId": "bf2e1f3a-5d56-48da-fcda-2e5d91503879"
      },
      "execution_count": 23,
      "outputs": [
        {
          "output_type": "stream",
          "name": "stdout",
          "text": [
            "Enter number of rows:5\n",
            "1\n",
            "22\n",
            "333\n",
            "4444\n",
            "55555\n"
          ]
        }
      ]
    },
    {
      "cell_type": "code",
      "source": [
        "n=int(input(\"Enter number of rows:\"))\n",
        "for row in range(n):\n",
        "  for col in range(n):\n",
        "    if col==0 or row==(n-1) or row==col:\n",
        "      print(\"*\",end=\"\")\n",
        "    else:\n",
        "      print(end=\" \")\n",
        "  print()"
      ],
      "metadata": {
        "colab": {
          "base_uri": "https://localhost:8080/"
        },
        "id": "sVvq2vV5sfc5",
        "outputId": "9f2b6876-2d8e-4b25-8df7-e2acd7cc2927"
      },
      "execution_count": 28,
      "outputs": [
        {
          "output_type": "stream",
          "name": "stdout",
          "text": [
            "Enter number of rows:5\n",
            "*    \n",
            "**   \n",
            "* *  \n",
            "*  * \n",
            "*****\n"
          ]
        }
      ]
    },
    {
      "cell_type": "code",
      "source": [
        "import math\n",
        "n=int(input(\"Enter the number:\"))\n",
        "result=math.factorial(n)\n",
        "print(result)"
      ],
      "metadata": {
        "colab": {
          "base_uri": "https://localhost:8080/"
        },
        "id": "AotAtydYyNfs",
        "outputId": "df4fd761-e60e-46fb-a3b7-e5213ebb0862"
      },
      "execution_count": 30,
      "outputs": [
        {
          "output_type": "stream",
          "name": "stdout",
          "text": [
            "Enter the number:5\n",
            "120\n"
          ]
        }
      ]
    },
    {
      "cell_type": "code",
      "source": [
        "def fact(n):\n",
        "  if n==0:\n",
        "    return 1\n",
        "  else:\n",
        "    return n*fact(n-1)\n",
        "\n",
        "n=int(input(\"Enter the number:\"))\n",
        "result=fact(n)\n",
        "print(result)\n"
      ],
      "metadata": {
        "colab": {
          "base_uri": "https://localhost:8080/"
        },
        "id": "Z7xXKTqxyd9c",
        "outputId": "f0d27d6d-2901-47b0-db02-df97d6e76d2e"
      },
      "execution_count": 32,
      "outputs": [
        {
          "output_type": "stream",
          "name": "stdout",
          "text": [
            "Enter the number:5\n",
            "120\n"
          ]
        }
      ]
    },
    {
      "cell_type": "code",
      "source": [
        "n=int(input(\"Enter the number:\"))\n",
        "result=1\n",
        "for i in range(n,0,-1):\n",
        "  result=result*i\n",
        "print(result)\n"
      ],
      "metadata": {
        "colab": {
          "base_uri": "https://localhost:8080/"
        },
        "id": "O3YWPPqe1GP3",
        "outputId": "e7e438f5-d35c-4ca0-c82f-1663343765bb"
      },
      "execution_count": 33,
      "outputs": [
        {
          "output_type": "stream",
          "name": "stdout",
          "text": [
            "Enter the number:5\n",
            "120\n"
          ]
        }
      ]
    },
    {
      "cell_type": "code",
      "source": [
        "#fibonacci series\n",
        "\n",
        "n=int(input(\"Enter n:\"))\n",
        "first=0\n",
        "second=1\n",
        "for i in range(n):\n",
        "  print(first)\n",
        "  temp=first\n",
        "  first=second\n",
        "  second=temp+second"
      ],
      "metadata": {
        "colab": {
          "base_uri": "https://localhost:8080/"
        },
        "id": "d39qbK0K22_l",
        "outputId": "ec2213ce-f0b3-4be9-fb40-1f99f2cc02c2"
      },
      "execution_count": 35,
      "outputs": [
        {
          "output_type": "stream",
          "name": "stdout",
          "text": [
            "Enter n:10\n",
            "0\n",
            "1\n",
            "1\n",
            "2\n",
            "3\n",
            "5\n",
            "8\n",
            "13\n",
            "21\n",
            "34\n"
          ]
        }
      ]
    },
    {
      "cell_type": "code",
      "source": [
        "lower=int(input(\"Enter lower:\"))\n",
        "upper=int(input(\"Enter upperr:\"))\n",
        "for num in range(lower,upper+1):\n",
        "  if num>1:\n",
        "    for i in range(2,num):\n",
        "      if num%i==0:\n",
        "        break\n",
        "    else:\n",
        "      print(num)\n",
        ""
      ],
      "metadata": {
        "colab": {
          "base_uri": "https://localhost:8080/"
        },
        "id": "f2FLmT33CMTo",
        "outputId": "393aae12-2ac0-4a91-9479-d14f1ebd3294"
      },
      "execution_count": 40,
      "outputs": [
        {
          "output_type": "stream",
          "name": "stdout",
          "text": [
            "Enter lower:5\n",
            "Enter upperr:10\n",
            "5\n",
            "7\n"
          ]
        }
      ]
    },
    {
      "cell_type": "code",
      "source": [
        "num=int(input(\"Enter the num:\"))\n",
        "if num>1:\n",
        "  for i in range(2,num):\n",
        "    if num%i==0:\n",
        "      print(\"its not a prime number\",num)\n",
        "      break\n",
        "  else:\n",
        "    print(\"its a prime number\")\n"
      ],
      "metadata": {
        "colab": {
          "base_uri": "https://localhost:8080/"
        },
        "id": "1U2xmTLCDTm3",
        "outputId": "1ca4041b-a477-4146-d900-010ec9aa2fdc"
      },
      "execution_count": 42,
      "outputs": [
        {
          "output_type": "stream",
          "name": "stdout",
          "text": [
            "Enter the num:5\n",
            "its a prime number\n"
          ]
        }
      ]
    },
    {
      "cell_type": "code",
      "source": [
        "num=int(input(\"Enter the num:\"))\n",
        "result=0\n",
        "for i in range(1,num):\n",
        "  if num%i==0:\n",
        "    result=result+i\n",
        "if result==num:\n",
        "  print(\"its perfect num\")\n",
        "else:\n",
        "  print(\"its not\")"
      ],
      "metadata": {
        "colab": {
          "base_uri": "https://localhost:8080/"
        },
        "id": "7RHSByQcFQk-",
        "outputId": "5d8c3037-99eb-42e0-d75d-cfe407fd527f"
      },
      "execution_count": 50,
      "outputs": [
        {
          "output_type": "stream",
          "name": "stdout",
          "text": [
            "Enter the num:5\n",
            "its not\n"
          ]
        }
      ]
    },
    {
      "cell_type": "code",
      "source": [
        "a=10\n",
        "b=20\n",
        "temp=a\n",
        "a=b\n",
        "b=temp\n",
        "print(a,b)"
      ],
      "metadata": {
        "colab": {
          "base_uri": "https://localhost:8080/"
        },
        "id": "CmVSvMDjHOFf",
        "outputId": "944d213f-3221-435a-8f4d-01e337c76f9c"
      },
      "execution_count": 52,
      "outputs": [
        {
          "output_type": "stream",
          "name": "stdout",
          "text": [
            "20 10\n"
          ]
        }
      ]
    },
    {
      "cell_type": "code",
      "source": [
        "a=int(input(\"enter a:\"))\n",
        "b=int(input(\"enter b:\"))\n",
        "a=a+b\n",
        "b=a-b\n",
        "a=a-b\n",
        "print(\"value of a:\",a,\"value of b:\",b)"
      ],
      "metadata": {
        "colab": {
          "base_uri": "https://localhost:8080/"
        },
        "id": "hKE3A9Z2InTP",
        "outputId": "ff9f3e12-3562-4e92-ba9c-ce3d36c6c400"
      },
      "execution_count": 53,
      "outputs": [
        {
          "output_type": "stream",
          "name": "stdout",
          "text": [
            "enter a:10\n",
            "enter b:5\n",
            "value of a: 5 value of b: 10\n"
          ]
        }
      ]
    },
    {
      "cell_type": "code",
      "source": [
        "def reversed_string(string):\n",
        "  reversed_string=\"\"\n",
        "  for i in string:\n",
        "    reversed_string=i+reversed_string\n",
        "  print(\"Reverse string is :\",reversed_string)\n",
        "\n",
        "string=input(\"Enter string:\")\n",
        "print(\"String is:\",string)\n",
        "reversed_string(string)"
      ],
      "metadata": {
        "colab": {
          "base_uri": "https://localhost:8080/"
        },
        "id": "JHHE2bI_JyW6",
        "outputId": "4249c3a2-8660-499b-f045-08a31d54348c"
      },
      "execution_count": 60,
      "outputs": [
        {
          "output_type": "stream",
          "name": "stdout",
          "text": [
            "Enter string:iraka\n",
            "String is: iraka\n",
            "Reverse string is : akari \n"
          ]
        }
      ]
    },
    {
      "cell_type": "code",
      "source": [],
      "metadata": {
        "id": "TnqSdv49MTBi"
      },
      "execution_count": null,
      "outputs": []
    }
  ]
}