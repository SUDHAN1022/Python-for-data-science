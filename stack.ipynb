{
  "nbformat": 4,
  "nbformat_minor": 0,
  "metadata": {
    "colab": {
      "provenance": [],
      "authorship_tag": "ABX9TyNgQEBI0KdAFsUlWWFs/s1y",
      "include_colab_link": true
    },
    "kernelspec": {
      "name": "python3",
      "display_name": "Python 3"
    },
    "language_info": {
      "name": "python"
    }
  },
  "cells": [
    {
      "cell_type": "markdown",
      "metadata": {
        "id": "view-in-github",
        "colab_type": "text"
      },
      "source": [
        "<a href=\"https://colab.research.google.com/github/SUDHAN1022/Python-for-data-science/blob/main/stack.ipynb\" target=\"_parent\"><img src=\"https://colab.research.google.com/assets/colab-badge.svg\" alt=\"Open In Colab\"/></a>"
      ]
    },
    {
      "cell_type": "markdown",
      "source": [
        "STACK USING LIST\n"
      ],
      "metadata": {
        "id": "i0_FZNFWcu7w"
      }
    },
    {
      "cell_type": "code",
      "execution_count": 8,
      "metadata": {
        "id": "J8tDp75Scsf2"
      },
      "outputs": [],
      "source": [
        "s=[]\n",
        "s.append(1)\n",
        "s.append(2)\n",
        "s.append(3)\n",
        "s.append(4)"
      ]
    },
    {
      "cell_type": "code",
      "source": [
        "s[-1]"
      ],
      "metadata": {
        "colab": {
          "base_uri": "https://localhost:8080/"
        },
        "id": "Z7NF-4zCc8tJ",
        "outputId": "faae984c-6e83-4c21-a66a-087b1beec963"
      },
      "execution_count": 9,
      "outputs": [
        {
          "output_type": "execute_result",
          "data": {
            "text/plain": [
              "4"
            ]
          },
          "metadata": {},
          "execution_count": 9
        }
      ]
    },
    {
      "cell_type": "code",
      "source": [
        "s"
      ],
      "metadata": {
        "colab": {
          "base_uri": "https://localhost:8080/"
        },
        "id": "cCDyddTZc_el",
        "outputId": "f19a5a48-9651-4a49-8788-0b9257085f8e"
      },
      "execution_count": 10,
      "outputs": [
        {
          "output_type": "execute_result",
          "data": {
            "text/plain": [
              "[1, 2, 3, 4]"
            ]
          },
          "metadata": {},
          "execution_count": 10
        }
      ]
    },
    {
      "cell_type": "code",
      "source": [
        "s"
      ],
      "metadata": {
        "colab": {
          "base_uri": "https://localhost:8080/"
        },
        "id": "u36jehNMdBmb",
        "outputId": "20499935-ea8a-418d-a589-69e2856846ff"
      },
      "execution_count": 4,
      "outputs": [
        {
          "output_type": "execute_result",
          "data": {
            "text/plain": [
              "[1, 2, 3]"
            ]
          },
          "metadata": {},
          "execution_count": 4
        }
      ]
    },
    {
      "cell_type": "code",
      "source": [
        "from collections import deque\n",
        "stack=deque()"
      ],
      "metadata": {
        "id": "dVK65WmveKf6"
      },
      "execution_count": 12,
      "outputs": []
    },
    {
      "cell_type": "code",
      "source": [
        "stack.append(\"luffy\")\n",
        "stack.append(\"nami\")\n",
        "stack.append(\"zoro\")\n",
        "stack.append(\"usopp\")"
      ],
      "metadata": {
        "id": "mlLuqMTkeamD"
      },
      "execution_count": 13,
      "outputs": []
    },
    {
      "cell_type": "code",
      "source": [
        "stack"
      ],
      "metadata": {
        "colab": {
          "base_uri": "https://localhost:8080/"
        },
        "id": "F0DQv3YxemVV",
        "outputId": "d71538ea-9ed6-41ff-a964-c1fb2dbad92c"
      },
      "execution_count": 14,
      "outputs": [
        {
          "output_type": "execute_result",
          "data": {
            "text/plain": [
              "deque(['luffy', 'nami', 'zoro', 'usopp'])"
            ]
          },
          "metadata": {},
          "execution_count": 14
        }
      ]
    },
    {
      "cell_type": "code",
      "source": [
        "stack.pop()"
      ],
      "metadata": {
        "colab": {
          "base_uri": "https://localhost:8080/",
          "height": 36
        },
        "id": "jwUo6Xfwew0e",
        "outputId": "b47b5751-0a2a-4984-99ed-a0ad25013dcc"
      },
      "execution_count": 15,
      "outputs": [
        {
          "output_type": "execute_result",
          "data": {
            "text/plain": [
              "'usopp'"
            ],
            "application/vnd.google.colaboratory.intrinsic+json": {
              "type": "string"
            }
          },
          "metadata": {},
          "execution_count": 15
        }
      ]
    },
    {
      "cell_type": "code",
      "source": [
        "stack"
      ],
      "metadata": {
        "colab": {
          "base_uri": "https://localhost:8080/"
        },
        "id": "nijGYLRjez7P",
        "outputId": "fca99771-52c4-4433-9fb2-fdc084f0f72b"
      },
      "execution_count": 16,
      "outputs": [
        {
          "output_type": "execute_result",
          "data": {
            "text/plain": [
              "deque(['luffy', 'nami', 'zoro'])"
            ]
          },
          "metadata": {},
          "execution_count": 16
        }
      ]
    },
    {
      "cell_type": "code",
      "source": [
        "stack[-1]"
      ],
      "metadata": {
        "colab": {
          "base_uri": "https://localhost:8080/",
          "height": 36
        },
        "id": "h2-2ZLzce1F9",
        "outputId": "981fa156-56a0-461f-e0a9-a6a6fca3fe8b"
      },
      "execution_count": 17,
      "outputs": [
        {
          "output_type": "execute_result",
          "data": {
            "text/plain": [
              "'zoro'"
            ],
            "application/vnd.google.colaboratory.intrinsic+json": {
              "type": "string"
            }
          },
          "metadata": {},
          "execution_count": 17
        }
      ]
    },
    {
      "cell_type": "code",
      "source": [
        "stack"
      ],
      "metadata": {
        "colab": {
          "base_uri": "https://localhost:8080/"
        },
        "id": "BfR1fVHje4dx",
        "outputId": "e9948894-0715-4348-a204-949e4c78abc6"
      },
      "execution_count": 18,
      "outputs": [
        {
          "output_type": "execute_result",
          "data": {
            "text/plain": [
              "deque(['luffy', 'nami', 'zoro'])"
            ]
          },
          "metadata": {},
          "execution_count": 18
        }
      ]
    },
    {
      "cell_type": "code",
      "source": [
        "class stack:\n",
        "  def __init__(self):\n",
        "    self.container=deque()\n",
        "\n",
        "  def push(self,val):\n",
        "    self.container.append(val)\n",
        "\n",
        "  def pop(self):\n",
        "    return self.container.pop()\n",
        "\n",
        "  def peek(self):\n",
        "    return self.container[-1]\n",
        "\n",
        "  def isempty(self):\n",
        "    return len(self.container)==0\n",
        "\n",
        "  def size(self):\n",
        "    return len(self.container)\n"
      ],
      "metadata": {
        "id": "qNoJGk11fT52"
      },
      "execution_count": 19,
      "outputs": []
    },
    {
      "cell_type": "code",
      "source": [
        "s=stack()"
      ],
      "metadata": {
        "id": "5Am_tWYGg9BJ"
      },
      "execution_count": 20,
      "outputs": []
    },
    {
      "cell_type": "code",
      "source": [
        "s.push(5)"
      ],
      "metadata": {
        "id": "oPfbnBXchBC2"
      },
      "execution_count": 21,
      "outputs": []
    },
    {
      "cell_type": "code",
      "source": [
        "s.peek()"
      ],
      "metadata": {
        "colab": {
          "base_uri": "https://localhost:8080/"
        },
        "id": "zhp44RORhFJv",
        "outputId": "2c1180d9-ddf7-44a5-bfc3-f08ab0f65313"
      },
      "execution_count": 24,
      "outputs": [
        {
          "output_type": "execute_result",
          "data": {
            "text/plain": [
              "5"
            ]
          },
          "metadata": {},
          "execution_count": 24
        }
      ]
    },
    {
      "cell_type": "code",
      "source": [
        "s.push(78)\n",
        "s.push(34)\n",
        "s.push(24)"
      ],
      "metadata": {
        "id": "-E-E6fQGhOkc"
      },
      "execution_count": 25,
      "outputs": []
    },
    {
      "cell_type": "code",
      "source": [
        "s.peek()"
      ],
      "metadata": {
        "colab": {
          "base_uri": "https://localhost:8080/"
        },
        "id": "Y6CxuVpQheSp",
        "outputId": "2f139121-baed-4d6a-974b-e7d0844ff99a"
      },
      "execution_count": 26,
      "outputs": [
        {
          "output_type": "execute_result",
          "data": {
            "text/plain": [
              "24"
            ]
          },
          "metadata": {},
          "execution_count": 26
        }
      ]
    },
    {
      "cell_type": "code",
      "source": [
        "s.pop()"
      ],
      "metadata": {
        "colab": {
          "base_uri": "https://localhost:8080/"
        },
        "id": "RneDzmtmhf-2",
        "outputId": "21716de5-4bea-432e-8e10-5023b0557358"
      },
      "execution_count": 27,
      "outputs": [
        {
          "output_type": "execute_result",
          "data": {
            "text/plain": [
              "24"
            ]
          },
          "metadata": {},
          "execution_count": 27
        }
      ]
    },
    {
      "cell_type": "code",
      "source": [
        "s.size()"
      ],
      "metadata": {
        "colab": {
          "base_uri": "https://localhost:8080/"
        },
        "id": "IbeK6wY9hoWl",
        "outputId": "86cf3abb-3f9d-4891-ad47-bffb9edb3ad2"
      },
      "execution_count": 28,
      "outputs": [
        {
          "output_type": "execute_result",
          "data": {
            "text/plain": [
              "3"
            ]
          },
          "metadata": {},
          "execution_count": 28
        }
      ]
    },
    {
      "cell_type": "markdown",
      "source": [
        "### **Data structure tutorial exercise: Stack**"
      ],
      "metadata": {
        "id": "08QVT5EmiK7m"
      }
    },
    {
      "cell_type": "code",
      "source": [
        "string=\"We will conquere COVID-19\"\n",
        "reversed_String=\"\"\n",
        "for i in string:\n",
        "  reversed_String=i+reversed_String\n",
        "\n",
        "print(reversed_String)"
      ],
      "metadata": {
        "colab": {
          "base_uri": "https://localhost:8080/"
        },
        "id": "9lYoy_nSiNsa",
        "outputId": "e0be228d-bbdb-4def-ef60-1c93e8dadc68"
      },
      "execution_count": 31,
      "outputs": [
        {
          "output_type": "stream",
          "name": "stdout",
          "text": [
            "91-DIVOC ereuqnoc lliw eW\n"
          ]
        }
      ]
    },
    {
      "cell_type": "code",
      "source": [
        "from collections import deque\n",
        "\n",
        "class Stack:\n",
        "    def __init__(self):\n",
        "        self.container = deque()\n",
        "\n",
        "    def push(self, val):\n",
        "        self.container.append(val)\n",
        "\n",
        "    def pop(self):\n",
        "        return self.container.pop()\n",
        "\n",
        "    def peek(self):\n",
        "        return self.container[-1]\n",
        "\n",
        "    def isempty(self):\n",
        "        return len(self.container) == 0\n",
        "\n",
        "    def size(self):\n",
        "        return len(self.container)\n",
        "\n",
        "def reverse_string(s):\n",
        "    stack = Stack()\n",
        "\n",
        "    for ch in s:\n",
        "        stack.push(ch)\n",
        "\n",
        "    rvsd = \"\"\n",
        "\n",
        "    while stack.size() != 0:\n",
        "        rvsd = rvsd + stack.pop()  # Correctly update rvsd with the popped value\n",
        "\n",
        "    return rvsd\n",
        "\n",
        "if __name__ == \"__main__\":\n",
        "    print(reverse_string(\"We will conquere COVI-19\"))\n"
      ],
      "metadata": {
        "colab": {
          "base_uri": "https://localhost:8080/"
        },
        "id": "SARC4JVWjjJH",
        "outputId": "ad7dde60-0027-4a6f-f481-bd681f8f5d8f"
      },
      "execution_count": 50,
      "outputs": [
        {
          "output_type": "stream",
          "name": "stdout",
          "text": [
            "91-IVOC ereuqnoc lliw eW\n"
          ]
        }
      ]
    },
    {
      "cell_type": "code",
      "source": [
        "from collections import deque\n",
        "\n",
        "class Stack:\n",
        "  def __init__(self):\n",
        "    self.container=deque()\n",
        "\n",
        "  def push(self,val):\n",
        "    self.container.append(val)\n",
        "\n",
        "  def pop(self):\n",
        "    return self.container.pop()\n",
        "\n",
        "  def peek(self):\n",
        "    return self.container[-1]\n",
        "\n",
        "  def isempty(self):\n",
        "    return len(self.container)==0\n",
        "\n",
        "  def size(self):\n",
        "    return len(self.container)\n",
        "\n",
        "def reverse_string(s):\n",
        "  stack=Stack()\n",
        "\n",
        "  for ch in s:\n",
        "    stack.push(ch)\n",
        "\n",
        "  rstr=\"\"\n",
        "  while stack.size()!=0:\n",
        "    rstr=rstr+stack.pop()\n",
        "\n",
        "  return rstr\n",
        "\n",
        "\n",
        "if __name__==\"__main__\":\n",
        "  print(reverse_string(\"We will conquere COVI-19\"))\n",
        "\n"
      ],
      "metadata": {
        "colab": {
          "base_uri": "https://localhost:8080/"
        },
        "id": "NuELguynltaL",
        "outputId": "7e0bcdb3-8be0-491a-b03d-04c3a70e2dfa"
      },
      "execution_count": 55,
      "outputs": [
        {
          "output_type": "stream",
          "name": "stdout",
          "text": [
            "91-IVOC ereuqnoc lliw eW\n"
          ]
        }
      ]
    }
  ]
}