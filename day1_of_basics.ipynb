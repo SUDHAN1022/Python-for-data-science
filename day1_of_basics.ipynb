{
  "nbformat": 4,
  "nbformat_minor": 0,
  "metadata": {
    "colab": {
      "provenance": [],
      "authorship_tag": "ABX9TyP3w3mlRQKMSBXDsbSnpTIv",
      "include_colab_link": true
    },
    "kernelspec": {
      "name": "python3",
      "display_name": "Python 3"
    },
    "language_info": {
      "name": "python"
    }
  },
  "cells": [
    {
      "cell_type": "markdown",
      "metadata": {
        "id": "view-in-github",
        "colab_type": "text"
      },
      "source": [
        "<a href=\"https://colab.research.google.com/github/SUDHAN1022/Python-for-data-science/blob/main/day1_of_basics.ipynb\" target=\"_parent\"><img src=\"https://colab.research.google.com/assets/colab-badge.svg\" alt=\"Open In Colab\"/></a>"
      ]
    },
    {
      "cell_type": "code",
      "execution_count": null,
      "metadata": {
        "colab": {
          "base_uri": "https://localhost:8080/"
        },
        "id": "JjfoxtU1DDdv",
        "outputId": "a9644805-bdba-4d73-b5f0-458bcd9e17ba"
      },
      "outputs": [
        {
          "output_type": "stream",
          "name": "stdout",
          "text": [
            "my first name is luffy and last name is jun\n"
          ]
        }
      ],
      "source": [
        "first_name=\"luffy\"\n",
        "last_name=\"jun\"\n",
        "\n",
        "print(\"my first name is {} and last name is {}\".format(first_name,last_name))"
      ]
    },
    {
      "cell_type": "code",
      "source": [
        "a=int(input(\"Enter a:\"))\n",
        "print(a)"
      ],
      "metadata": {
        "colab": {
          "base_uri": "https://localhost:8080/"
        },
        "id": "JppsB4IdM9XM",
        "outputId": "19240c79-06e3-42c3-bd96-c8b8bdf72704"
      },
      "execution_count": null,
      "outputs": [
        {
          "output_type": "stream",
          "name": "stdout",
          "text": [
            "Enter a:10\n",
            "10\n"
          ]
        }
      ]
    },
    {
      "cell_type": "code",
      "source": [
        "name=input(\"name:\")\n",
        "age=input(\"age:\")\n",
        "print(\"My name is:\",name)\n",
        "print(\"My age is:\",age)"
      ],
      "metadata": {
        "id": "e-p2c1irPBfj",
        "colab": {
          "base_uri": "https://localhost:8080/"
        },
        "outputId": "6c978373-add6-462c-db85-986a26508c6b"
      },
      "execution_count": null,
      "outputs": [
        {
          "output_type": "stream",
          "name": "stdout",
          "text": [
            "name:luffy\n",
            "age:10\n",
            "My name is: luffy\n",
            "My age is: 10\n"
          ]
        }
      ]
    },
    {
      "cell_type": "code",
      "source": [
        "a=int(input())\n",
        "b=int(input())\n",
        "c=int(input())\n",
        "mul=a*b*c\n",
        "add=a+b+c\n",
        "div=mul/add\n",
        "print(div)\n"
      ],
      "metadata": {
        "colab": {
          "base_uri": "https://localhost:8080/"
        },
        "id": "1UATYPHqPuuG",
        "outputId": "869a8177-80a2-4d71-c903-2aa909a300c8"
      },
      "execution_count": null,
      "outputs": [
        {
          "output_type": "stream",
          "name": "stdout",
          "text": [
            "2\n",
            "3\n",
            "4\n",
            "2.6666666666666665\n"
          ]
        }
      ]
    },
    {
      "cell_type": "code",
      "source": [
        "name=input()\n",
        "score=int(input())\n",
        "department=input()\n",
        "\n",
        "print(\"My name is :\",name)\n",
        "print(\"my score is :\",score/10)\n",
        "print(\"my department is :\" ,department)"
      ],
      "metadata": {
        "colab": {
          "base_uri": "https://localhost:8080/"
        },
        "id": "YmtMEWZXQl9P",
        "outputId": "5889cba3-9f02-411e-c97a-44d84544ee98"
      },
      "execution_count": null,
      "outputs": [
        {
          "output_type": "stream",
          "name": "stdout",
          "text": [
            "aravind\n",
            "78\n",
            "cse\n",
            "My name is : aravind\n",
            "my score is : 7.8\n",
            "my department is : cse\n"
          ]
        }
      ]
    },
    {
      "cell_type": "markdown",
      "source": [
        "IF ELSE AND BOOLEAN OPERATERS\n"
      ],
      "metadata": {
        "id": "NTEx6RSbSMK_"
      }
    },
    {
      "cell_type": "code",
      "source": [
        "if (True):\n",
        "  print(\"yes\")\n",
        "else:\n",
        "  print(\"no\")"
      ],
      "metadata": {
        "colab": {
          "base_uri": "https://localhost:8080/"
        },
        "id": "4wXe3W1ASRmt",
        "outputId": "4c0d1e16-d3c9-4fbb-8ca8-caec016a4f09"
      },
      "execution_count": null,
      "outputs": [
        {
          "output_type": "stream",
          "name": "stdout",
          "text": [
            "yes\n"
          ]
        }
      ]
    },
    {
      "cell_type": "code",
      "source": [
        "meghna=input(\"died or alive:\")\n",
        "if (meghna==\"died\"):\n",
        "  print(\"surya meets priya\")\n",
        "else:\n",
        "  print(\"surya weds meghna\")\n",
        "\n",
        "\n"
      ],
      "metadata": {
        "colab": {
          "base_uri": "https://localhost:8080/"
        },
        "id": "oAs0QpiKTU3a",
        "outputId": "dadbee23-de8b-47a4-abd2-7dd81ab0610f"
      },
      "execution_count": null,
      "outputs": [
        {
          "output_type": "stream",
          "name": "stdout",
          "text": [
            "died or alive:died\n",
            "surya meets priya\n"
          ]
        }
      ]
    },
    {
      "cell_type": "code",
      "source": [
        "mark=int(input())\n",
        "if (mark>35):\n",
        "  print(\"pass\")\n",
        "else:\n",
        "  print(\"fail\")\n"
      ],
      "metadata": {
        "colab": {
          "base_uri": "https://localhost:8080/"
        },
        "id": "A-9QrJStVjf5",
        "outputId": "a65ad0fb-7036-4a9a-ace1-afe65bfaee2e"
      },
      "execution_count": null,
      "outputs": [
        {
          "output_type": "stream",
          "name": "stdout",
          "text": [
            "32\n",
            "fail\n"
          ]
        }
      ]
    },
    {
      "cell_type": "code",
      "source": [
        "income=int(input())\n",
        "if income>7000:\n",
        "  print(\"sc is avaible\")\n",
        "else:\n",
        "  print(\"not eligible\")"
      ],
      "metadata": {
        "colab": {
          "base_uri": "https://localhost:8080/"
        },
        "id": "xkSCf55wVz8F",
        "outputId": "030fa7e5-fa37-4c26-f118-8efa5d7ffb07"
      },
      "execution_count": null,
      "outputs": [
        {
          "output_type": "stream",
          "name": "stdout",
          "text": [
            "65000\n",
            "sc is avaible\n"
          ]
        }
      ]
    },
    {
      "cell_type": "code",
      "source": [
        "number=int(input())\n",
        "if number%5==0 and number%3==0:\n",
        "  print(\"its divisilbe by both\")\n",
        "else:\n",
        "  print(\"not divisible\")\n"
      ],
      "metadata": {
        "colab": {
          "base_uri": "https://localhost:8080/"
        },
        "id": "-2m99_9OXUcQ",
        "outputId": "84ef17c3-6236-43d6-84b4-56344c763895"
      },
      "execution_count": null,
      "outputs": [
        {
          "output_type": "stream",
          "name": "stdout",
          "text": [
            "15\n",
            "its divisilbe by both\n"
          ]
        }
      ]
    },
    {
      "cell_type": "code",
      "source": [
        "number=int(input())\n",
        "if number%2==0:\n",
        "  print(\"even\")\n",
        "else:\n",
        "  print(\"odd\")"
      ],
      "metadata": {
        "colab": {
          "base_uri": "https://localhost:8080/"
        },
        "id": "7Mpwzj56Z9Xr",
        "outputId": "004dc51f-81c0-470d-de80-32436460a732"
      },
      "execution_count": null,
      "outputs": [
        {
          "output_type": "stream",
          "name": "stdout",
          "text": [
            "66\n",
            "even\n"
          ]
        }
      ]
    },
    {
      "cell_type": "code",
      "source": [
        "score=int(input(\"Enter the score:\"))\n",
        "if score<=100:\n",
        "  if score<35:\n",
        "    print(\"poor student\")\n",
        "  elif score>35 and score<70:\n",
        "    print(\"Average student\")\n",
        "  elif score>70:\n",
        "    print(\"good student\")\n",
        "else:\n",
        "  print(\"WARNING!!!  score below 100\")\n"
      ],
      "metadata": {
        "colab": {
          "base_uri": "https://localhost:8080/"
        },
        "id": "LMnjDfbxa9eT",
        "outputId": "adf1a780-c6f6-4ad9-a134-0b22290e0393"
      },
      "execution_count": null,
      "outputs": [
        {
          "output_type": "stream",
          "name": "stdout",
          "text": [
            "Enter the score:101\n",
            "WARNING!!!  score below 100\n"
          ]
        }
      ]
    },
    {
      "cell_type": "code",
      "source": [
        "a=int(input(\"Enter a:\"))\n",
        "b=int(input(\"Enter b:\"))\n",
        "\n",
        "move=input(\"Choose add,sub,mul,div:\")\n",
        "if move==\"add\":\n",
        "  print(\"result:\",a+b)\n",
        "if move==\"sub\":\n",
        "  print(\"result:\",a-b)\n",
        "if move==\"mul\":\n",
        "  print(\"result:\",a*b)\n",
        "if move==\"div\":\n",
        "  print(\"result:\",a/b)\n",
        "\n"
      ],
      "metadata": {
        "colab": {
          "base_uri": "https://localhost:8080/"
        },
        "id": "jKQZn7YlbuYx",
        "outputId": "2e4a7bdf-fe2a-4c6b-f7b1-099108f51f67"
      },
      "execution_count": null,
      "outputs": [
        {
          "output_type": "stream",
          "name": "stdout",
          "text": [
            "Enter a:4\n",
            "Enter b:5\n",
            "Choose add,sub,mul,div:sub\n",
            "result: -1\n"
          ]
        }
      ]
    },
    {
      "cell_type": "code",
      "source": [
        "score=int(input(\"Enter percenatge:\"))\n",
        "if score>70:\n",
        "  name=input(\"enter name:\")\n",
        "  dep=input(\"enter deapertment:\")\n",
        "  location=input(\"enter loaction:\")\n",
        "  print(\"youre eligilble\")\n",
        "elif (score>100 or score<70 or score<0):\n",
        "  print(\"not eligilbe\")\n"
      ],
      "metadata": {
        "colab": {
          "base_uri": "https://localhost:8080/"
        },
        "id": "6V3uxG8ifIw_",
        "outputId": "eca7063d-47ee-4e3e-8910-04e05829870e"
      },
      "execution_count": null,
      "outputs": [
        {
          "output_type": "stream",
          "name": "stdout",
          "text": [
            "Enter percenatge:72\n",
            "enter name:hari\n",
            "enter deapertment:ai\n",
            "enter loaction:blr\n",
            "youre eligilble\n"
          ]
        }
      ]
    },
    {
      "cell_type": "code",
      "source": [
        "salary=int(input(\"Enter salary:\"))\n",
        "age=int(input(\"Enter age:\"))\n",
        "\n",
        "if salary>=20000 or age<=25:\n",
        "  required_loan_amount=int(input(\"Enter required loan amount:\"))\n",
        "  if required_loan_amount<=50000:\n",
        "    print(\"you are eligible for loan\")\n",
        "  elif required_loan_amount>50000:\n",
        "    print(\"max is 50000\")\n",
        "else:\n",
        "  print(\"you are not eligible for loan\")\n"
      ],
      "metadata": {
        "colab": {
          "base_uri": "https://localhost:8080/"
        },
        "id": "s0Qxq_25gUK_",
        "outputId": "a8760c53-732c-4412-88d2-464b7dfb03b8"
      },
      "execution_count": null,
      "outputs": [
        {
          "output_type": "stream",
          "name": "stdout",
          "text": [
            "Enter salary:3000\n",
            "Enter age:26\n",
            "you are not eligible for loan\n"
          ]
        }
      ]
    },
    {
      "cell_type": "code",
      "source": [
        "mat=int(input(\"Enter maths marks:\"))\n",
        "eng=int(input(\"Enter english marks:\"))\n",
        "sci=int(input(\"Enter science marks:\"))\n",
        "soc=int(input(\"Enter social marks:\"))\n",
        "tam=int(input(\"Enter tamil marks:\"))\n",
        "\n",
        "result=mat+eng+sci+soc+tam\n",
        "\n",
        "avg=result/5\n",
        "\n",
        "if avg<35:\n",
        "  print(\"avgerage is lesser\",avg)\n",
        "  print(\"extra class needed\")\n",
        "else:\n",
        "  print(\"no need\")"
      ],
      "metadata": {
        "colab": {
          "base_uri": "https://localhost:8080/"
        },
        "id": "LzPl-AzVkoBL",
        "outputId": "ff0f7d8f-6f2c-4249-da5c-0d7a6f184066"
      },
      "execution_count": null,
      "outputs": [
        {
          "output_type": "stream",
          "name": "stdout",
          "text": [
            "Enter maths marks:43\n",
            "Enter english marks:22\n",
            "Enter science marks:23\n",
            "Enter social marks:25\n",
            "Enter tamil marks:29\n",
            "mark is lesser 28.4\n",
            "extra class needed\n"
          ]
        }
      ]
    },
    {
      "cell_type": "markdown",
      "source": [
        "LOOPS"
      ],
      "metadata": {
        "id": "aReQlvc7hclJ"
      }
    },
    {
      "cell_type": "code",
      "source": [
        "for i in \"apple\":\n",
        "  print(i)"
      ],
      "metadata": {
        "id": "-c4xIK-QlaVa",
        "colab": {
          "base_uri": "https://localhost:8080/"
        },
        "outputId": "5b899b98-59ff-4541-fd79-4e9932f71dc5"
      },
      "execution_count": null,
      "outputs": [
        {
          "output_type": "stream",
          "name": "stdout",
          "text": [
            "a\n",
            "p\n",
            "p\n",
            "l\n",
            "e\n"
          ]
        }
      ]
    },
    {
      "cell_type": "code",
      "source": [
        "for i in range(1,5):\n",
        "  print(i)"
      ],
      "metadata": {
        "colab": {
          "base_uri": "https://localhost:8080/"
        },
        "id": "n6l1vvJdiKCB",
        "outputId": "e1593bd4-6862-48ca-ef5d-1b45c1e85648"
      },
      "execution_count": null,
      "outputs": [
        {
          "output_type": "stream",
          "name": "stdout",
          "text": [
            "1\n",
            "2\n",
            "3\n",
            "4\n"
          ]
        }
      ]
    },
    {
      "cell_type": "code",
      "source": [
        "for i in range(1,10+1):\n",
        "    print(i,\"x2=\",i*2)"
      ],
      "metadata": {
        "colab": {
          "base_uri": "https://localhost:8080/"
        },
        "id": "0K63edV3izL-",
        "outputId": "f7795065-3929-4dde-f59b-18952e06bc9d"
      },
      "execution_count": null,
      "outputs": [
        {
          "output_type": "stream",
          "name": "stdout",
          "text": [
            "1 x2= 2\n",
            "2 x2= 4\n",
            "3 x2= 6\n",
            "4 x2= 8\n",
            "5 x2= 10\n",
            "6 x2= 12\n",
            "7 x2= 14\n",
            "8 x2= 16\n",
            "9 x2= 18\n",
            "10 x2= 20\n"
          ]
        }
      ]
    },
    {
      "cell_type": "code",
      "source": [
        "a=int(input())\n",
        "b=int(input())\n",
        "for i in range(a,b):\n",
        "  print(i)"
      ],
      "metadata": {
        "colab": {
          "base_uri": "https://localhost:8080/"
        },
        "id": "-TDRAs9DjUtT",
        "outputId": "d27b91f4-6670-425c-99c6-c4ff23ecb894"
      },
      "execution_count": null,
      "outputs": [
        {
          "output_type": "stream",
          "name": "stdout",
          "text": [
            "3\n",
            "10\n",
            "3\n",
            "4\n",
            "5\n",
            "6\n",
            "7\n",
            "8\n",
            "9\n"
          ]
        }
      ]
    },
    {
      "cell_type": "code",
      "source": [
        "for i in range(1,10+1):\n",
        "  if i%2==0:\n",
        "    print(\"even\",i)\n"
      ],
      "metadata": {
        "colab": {
          "base_uri": "https://localhost:8080/"
        },
        "id": "mQv_Pz03ufxm",
        "outputId": "57241e94-2741-4777-f484-03a0625fb8a1"
      },
      "execution_count": null,
      "outputs": [
        {
          "output_type": "stream",
          "name": "stdout",
          "text": [
            "even 2\n",
            "even 4\n",
            "even 6\n",
            "even 8\n",
            "even 10\n"
          ]
        }
      ]
    },
    {
      "cell_type": "code",
      "source": [
        "count=0\n",
        "for  i in range(1,10+1):\n",
        "\n",
        "  if i%2!=0:\n",
        "    count=count+1\n",
        "    print(i)\n",
        "\n",
        "print(count)"
      ],
      "metadata": {
        "colab": {
          "base_uri": "https://localhost:8080/"
        },
        "id": "__wXAjO-wdqK",
        "outputId": "b168b62f-9368-4c14-d938-3d8c688d9f4c"
      },
      "execution_count": null,
      "outputs": [
        {
          "output_type": "stream",
          "name": "stdout",
          "text": [
            "1\n",
            "3\n",
            "5\n",
            "7\n",
            "9\n",
            "5\n"
          ]
        }
      ]
    },
    {
      "cell_type": "code",
      "source": [
        "evencount=0\n",
        "oddcount=0\n",
        "for i in range(1,10+1):\n",
        "  if i%2==0:\n",
        "    evencount=evencount+1\n",
        "  else:\n",
        "    oddcount=oddcount+1\n",
        "\n",
        "print(evencount)\n",
        "print(oddcount)\n"
      ],
      "metadata": {
        "colab": {
          "base_uri": "https://localhost:8080/"
        },
        "id": "yOPk507GyQoH",
        "outputId": "b3986c45-9db8-4eeb-cbb6-eca8c99a0386"
      },
      "execution_count": null,
      "outputs": [
        {
          "output_type": "stream",
          "name": "stdout",
          "text": [
            "5\n",
            "5\n"
          ]
        }
      ]
    },
    {
      "cell_type": "code",
      "source": [
        "count=0\n",
        "\n",
        "for i in range(1,101):\n",
        "  if i%3==0 and i%5==0:\n",
        "    count=count+1\n",
        "    print(i)\n",
        "\n",
        "print(count)"
      ],
      "metadata": {
        "colab": {
          "base_uri": "https://localhost:8080/"
        },
        "id": "Or_Our_Ey_QN",
        "outputId": "b1baf686-c80a-46c7-9d3b-e2bd575a3af9"
      },
      "execution_count": null,
      "outputs": [
        {
          "output_type": "stream",
          "name": "stdout",
          "text": [
            "15\n",
            "30\n",
            "45\n",
            "60\n",
            "75\n",
            "90\n",
            "6\n"
          ]
        }
      ]
    },
    {
      "cell_type": "code",
      "source": [
        "sum=0\n",
        "for i in range(1,6):\n",
        "  sum=sum+i\n",
        "\n",
        "print(sum)"
      ],
      "metadata": {
        "colab": {
          "base_uri": "https://localhost:8080/"
        },
        "id": "9gO8wjOkzVtY",
        "outputId": "0b6d857c-17eb-4598-baff-d3dd4448b4b8"
      },
      "execution_count": null,
      "outputs": [
        {
          "output_type": "stream",
          "name": "stdout",
          "text": [
            "15\n"
          ]
        }
      ]
    },
    {
      "cell_type": "code",
      "source": [
        "#hmn=int(input(\"Enter hmns:\"))\n",
        "a=[]\n",
        "print(\"Enter 10 numbers\")\n",
        "for i in range(5):\n",
        "  num=int(input(\"Enter num \"+ str( i)))\n",
        "  a.append(num)\n",
        "\n",
        "print(a)\n",
        "\n",
        "sum=0\n",
        "for i in a:\n",
        "  sum=sum+i\n",
        "print(sum)\n"
      ],
      "metadata": {
        "colab": {
          "base_uri": "https://localhost:8080/"
        },
        "id": "E-ciVQcb1Iiw",
        "outputId": "1ee826ca-8790-4af7-f80f-446ffcc4700d"
      },
      "execution_count": null,
      "outputs": [
        {
          "output_type": "stream",
          "name": "stdout",
          "text": [
            "Enter 10 numbers\n",
            "Enter num 010\n",
            "Enter num 120\n",
            "Enter num 230\n",
            "Enter num 340\n",
            "Enter num 450\n",
            "[10, 20, 30, 40, 50]\n",
            "150\n"
          ]
        }
      ]
    },
    {
      "cell_type": "code",
      "source": [
        "for i in range(1,6):\n",
        "  for j in range(1,3):\n",
        "    print(j,\"apple\")"
      ],
      "metadata": {
        "colab": {
          "base_uri": "https://localhost:8080/"
        },
        "id": "Iysl7aEBkv4w",
        "outputId": "6435d94d-16be-4656-cd4a-67533b71ee93"
      },
      "execution_count": 1,
      "outputs": [
        {
          "output_type": "stream",
          "name": "stdout",
          "text": [
            "1 apple\n",
            "2 apple\n",
            "1 apple\n",
            "2 apple\n",
            "1 apple\n",
            "2 apple\n",
            "1 apple\n",
            "2 apple\n",
            "1 apple\n",
            "2 apple\n"
          ]
        }
      ]
    },
    {
      "cell_type": "code",
      "source": [
        "for i in range(1,3):\n",
        "  print(\"week:\",i)\n",
        "  for j in range(1,4):\n",
        "    print(\"   Day:\",j)\n",
        "print(\"   **** ** ****\")\n"
      ],
      "metadata": {
        "colab": {
          "base_uri": "https://localhost:8080/"
        },
        "id": "U_k-JerUly1G",
        "outputId": "0f0c51aa-d89e-425c-a538-6a6f65df9c20"
      },
      "execution_count": 12,
      "outputs": [
        {
          "output_type": "stream",
          "name": "stdout",
          "text": [
            "week: 1\n",
            "   Day: 1\n",
            "   Day: 2\n",
            "   Day: 3\n",
            "week: 2\n",
            "   Day: 1\n",
            "   Day: 2\n",
            "   Day: 3\n",
            "   **** ** ****\n"
          ]
        }
      ]
    },
    {
      "cell_type": "code",
      "source": [
        "for i in range(1,5):\n",
        "  print('*'*i)"
      ],
      "metadata": {
        "colab": {
          "base_uri": "https://localhost:8080/"
        },
        "id": "9WnPBrqkmCwe",
        "outputId": "940d7aec-c356-42c8-8c96-5f44b3377d36"
      },
      "execution_count": 22,
      "outputs": [
        {
          "output_type": "stream",
          "name": "stdout",
          "text": [
            "*\n",
            "**\n",
            "***\n",
            "****\n"
          ]
        }
      ]
    },
    {
      "cell_type": "code",
      "source": [
        "for i in range(1,5):\n",
        "  print()\n",
        "  for j in range(1,i+1):\n",
        "    print(j,end=\"\")"
      ],
      "metadata": {
        "colab": {
          "base_uri": "https://localhost:8080/"
        },
        "id": "ouUNd7dznX14",
        "outputId": "a11d0495-c9b3-4e08-893c-beba260d5669"
      },
      "execution_count": 18,
      "outputs": [
        {
          "output_type": "stream",
          "name": "stdout",
          "text": [
            "\n",
            "1\n",
            "12\n",
            "123\n",
            "1234"
          ]
        }
      ]
    },
    {
      "cell_type": "markdown",
      "source": [
        "WHILE LOOP"
      ],
      "metadata": {
        "id": "QseXO53fq5Z8"
      }
    },
    {
      "cell_type": "code",
      "source": [
        "i=0\n",
        "while i==0:\n",
        "  print(i)\n",
        "  i=1;\n"
      ],
      "metadata": {
        "colab": {
          "base_uri": "https://localhost:8080/"
        },
        "id": "j6_hKSXGq7Fa",
        "outputId": "3a0b90da-7c78-412d-bdc2-e82ec29a8461"
      },
      "execution_count": 24,
      "outputs": [
        {
          "output_type": "stream",
          "name": "stdout",
          "text": [
            "0\n"
          ]
        }
      ]
    },
    {
      "cell_type": "code",
      "source": [
        "i=0\n",
        "while(i<5):\n",
        "  print(\"current i:\",i)\n",
        "  i=i+1\n",
        "\n"
      ],
      "metadata": {
        "colab": {
          "base_uri": "https://localhost:8080/"
        },
        "id": "03_39KEDrv2-",
        "outputId": "dee0b4d6-fb12-4866-ad06-7991b0574182"
      },
      "execution_count": 25,
      "outputs": [
        {
          "output_type": "stream",
          "name": "stdout",
          "text": [
            "current i: 0\n",
            "current i: 1\n",
            "current i: 2\n",
            "current i: 3\n",
            "current i: 4\n"
          ]
        }
      ]
    },
    {
      "cell_type": "code",
      "source": [
        "i=10\n",
        "while(i<201):\n",
        "  print(\"current i value:\",i)\n",
        "  i=i+10"
      ],
      "metadata": {
        "colab": {
          "base_uri": "https://localhost:8080/"
        },
        "id": "-nyXeba0td_w",
        "outputId": "2b26d20c-7aa6-4d25-e857-1cc09d27a206"
      },
      "execution_count": 27,
      "outputs": [
        {
          "output_type": "stream",
          "name": "stdout",
          "text": [
            "current i value: 10\n",
            "current i value: 20\n",
            "current i value: 30\n",
            "current i value: 40\n",
            "current i value: 50\n",
            "current i value: 60\n",
            "current i value: 70\n",
            "current i value: 80\n",
            "current i value: 90\n",
            "current i value: 100\n",
            "current i value: 110\n",
            "current i value: 120\n",
            "current i value: 130\n",
            "current i value: 140\n",
            "current i value: 150\n",
            "current i value: 160\n",
            "current i value: 170\n",
            "current i value: 180\n",
            "current i value: 190\n",
            "current i value: 200\n"
          ]
        }
      ]
    },
    {
      "cell_type": "code",
      "source": [
        "i=10\n",
        "while(i>0):\n",
        "    print(i)\n",
        "    i=i-1\n"
      ],
      "metadata": {
        "colab": {
          "base_uri": "https://localhost:8080/"
        },
        "id": "R5yL9fQLtyyZ",
        "outputId": "d9f47519-ec4a-4441-ace2-49ea201368f7"
      },
      "execution_count": 38,
      "outputs": [
        {
          "output_type": "stream",
          "name": "stdout",
          "text": [
            "10\n",
            "9\n",
            "8\n",
            "7\n",
            "6\n",
            "5\n",
            "4\n",
            "3\n",
            "2\n",
            "1\n"
          ]
        }
      ]
    },
    {
      "cell_type": "code",
      "source": [
        "i=5\n",
        "fact=1\n",
        "while i>0:\n",
        "  fact=fact*i\n",
        "  i=i-1\n",
        "print(fact)\n"
      ],
      "metadata": {
        "colab": {
          "base_uri": "https://localhost:8080/"
        },
        "id": "z6dTfv9ruKcK",
        "outputId": "6a7e65fd-0f45-45ce-f212-5b6cc1122696"
      },
      "execution_count": 42,
      "outputs": [
        {
          "output_type": "stream",
          "name": "stdout",
          "text": [
            "120\n"
          ]
        }
      ]
    },
    {
      "cell_type": "markdown",
      "source": [
        "PYTHON COLLECTIONS"
      ],
      "metadata": {
        "id": "fjmaBMB01mx-"
      }
    },
    {
      "cell_type": "code",
      "source": [
        "#LIST\n",
        "\n",
        "a=[1,2,3,4,5,6]\n",
        "b=[7,8]\n",
        "a.extend(b)\n",
        "print(a)"
      ],
      "metadata": {
        "colab": {
          "base_uri": "https://localhost:8080/"
        },
        "id": "BP9rnUXe1poC",
        "outputId": "8b1f8f37-87c0-4c82-f16b-ff9904a5c300"
      },
      "execution_count": 45,
      "outputs": [
        {
          "output_type": "stream",
          "name": "stdout",
          "text": [
            "[1, 2, 3, 4, 5, 6, 7, 8]\n"
          ]
        }
      ]
    },
    {
      "cell_type": "code",
      "source": [
        "a=(1,2,3,4)\n",
        "b=list(a)\n",
        "b.pop()\n",
        "print(b)"
      ],
      "metadata": {
        "colab": {
          "base_uri": "https://localhost:8080/"
        },
        "id": "gwGYPxvNxKZ4",
        "outputId": "4861e360-c221-4577-e070-4ce63bc1ae28"
      },
      "execution_count": 52,
      "outputs": [
        {
          "output_type": "stream",
          "name": "stdout",
          "text": [
            "[1, 2, 3]\n"
          ]
        }
      ]
    },
    {
      "cell_type": "code",
      "source": [
        "a={1,2,3,4}\n",
        "a.pop()\n",
        "print(a)"
      ],
      "metadata": {
        "colab": {
          "base_uri": "https://localhost:8080/"
        },
        "id": "zzQOWFgm3RCH",
        "outputId": "610df22b-70a4-4d00-a575-c7e50213c2f0"
      },
      "execution_count": 67,
      "outputs": [
        {
          "output_type": "stream",
          "name": "stdout",
          "text": [
            "{2, 3, 4}\n"
          ]
        }
      ]
    },
    {
      "cell_type": "code",
      "source": [
        "a={\n",
        "    \"name\":\"luffy\"\n",
        "}\n",
        "\n",
        "print(a[\"name\"])"
      ],
      "metadata": {
        "colab": {
          "base_uri": "https://localhost:8080/"
        },
        "id": "KD_WQS3h4H_6",
        "outputId": "42563032-ab80-4d8b-fe22-6a9ce6e053e9"
      },
      "execution_count": 69,
      "outputs": [
        {
          "output_type": "stream",
          "name": "stdout",
          "text": [
            "luffy\n"
          ]
        }
      ]
    },
    {
      "cell_type": "markdown",
      "source": [
        "FUNCTION"
      ],
      "metadata": {
        "id": "Fwwci0aQ6QiT"
      }
    },
    {
      "cell_type": "code",
      "source": [
        "def painter():\n",
        "  print(\"painting\")\n",
        "\n",
        "painter()"
      ],
      "metadata": {
        "colab": {
          "base_uri": "https://localhost:8080/"
        },
        "id": "ZNjPBeRK5BER",
        "outputId": "51d55567-ebde-4c31-8fba-e8ff89a57306"
      },
      "execution_count": 70,
      "outputs": [
        {
          "output_type": "stream",
          "name": "stdout",
          "text": [
            "painting\n"
          ]
        }
      ]
    },
    {
      "cell_type": "code",
      "source": [
        "def add():\n",
        "  print(\"Addiction\")\n",
        "  a=int(input(\"Enter a:\"))\n",
        "  b=int(input(\"Enter b:\"))\n",
        "  print(a+b)\n",
        "\n",
        "def sub():\n",
        "  print(\"Subraction\")\n",
        "  a=int(input(\"Enter a:\"))\n",
        "  b=int(input(\"Enter b:\"))\n",
        "  print(a-b)\n",
        "\n",
        "add()\n",
        "sub()\n",
        "\n"
      ],
      "metadata": {
        "colab": {
          "base_uri": "https://localhost:8080/"
        },
        "id": "5LtjKEp96Zdc",
        "outputId": "42dddb14-4fe5-4d1e-e1dc-d045251174a1"
      },
      "execution_count": 73,
      "outputs": [
        {
          "output_type": "stream",
          "name": "stdout",
          "text": [
            "Enter a:2\n",
            "Enter b:4\n",
            "6\n"
          ]
        }
      ]
    },
    {
      "cell_type": "code",
      "source": [
        "def painter(msg):\n",
        "  print(\"hi bro\",msg)\n",
        "  print(msg)\n",
        "\n",
        "painter(\"paint my house\")"
      ],
      "metadata": {
        "colab": {
          "base_uri": "https://localhost:8080/"
        },
        "id": "9hTkjONX7-bT",
        "outputId": "a34c1cc9-185f-4ef7-beb4-c023c3aa8990"
      },
      "execution_count": 75,
      "outputs": [
        {
          "output_type": "stream",
          "name": "stdout",
          "text": [
            "hi bro paint my house\n",
            "paint my house\n"
          ]
        }
      ]
    },
    {
      "cell_type": "code",
      "source": [
        "def findevenorodd(number):\n",
        "  if number%2==0:\n",
        "    print(\"even\")\n",
        "  else:\n",
        "    print(\"odd\")\n",
        "\n",
        "num=int(input(\"Enter num:\"))\n",
        "findevenorodd(num)"
      ],
      "metadata": {
        "colab": {
          "base_uri": "https://localhost:8080/"
        },
        "id": "X3AkdP5A9c8k",
        "outputId": "34d25e3b-182d-427c-b2ce-ed5acacde660"
      },
      "execution_count": 79,
      "outputs": [
        {
          "output_type": "stream",
          "name": "stdout",
          "text": [
            "Enter num:6\n",
            "even\n"
          ]
        }
      ]
    },
    {
      "cell_type": "code",
      "source": [
        "def printrange(p,q):\n",
        "  for i in range(p,q):\n",
        "    print(i)\n",
        "\n",
        "a=int(input(\"Enter a:\"))\n",
        "b=int(input(\"Enter b:\"))\n",
        "\n",
        "printrange(a,b)\n",
        "\n"
      ],
      "metadata": {
        "colab": {
          "base_uri": "https://localhost:8080/"
        },
        "id": "Us-yJ7JL_pJG",
        "outputId": "e641dee3-a83f-48ca-ccb6-5f3e29013b78"
      },
      "execution_count": 80,
      "outputs": [
        {
          "output_type": "stream",
          "name": "stdout",
          "text": [
            "Enter a:1\n",
            "Enter b:6\n",
            "1\n",
            "2\n",
            "3\n",
            "4\n",
            "5\n"
          ]
        }
      ]
    },
    {
      "cell_type": "code",
      "source": [
        "def painter():\n",
        "  return \"i am painter\"\n",
        "\n",
        "print(painter())"
      ],
      "metadata": {
        "colab": {
          "base_uri": "https://localhost:8080/"
        },
        "id": "0UY3Nb1wAXVK",
        "outputId": "583c586e-04b8-4b65-b2ed-844f992e6b63"
      },
      "execution_count": 83,
      "outputs": [
        {
          "output_type": "stream",
          "name": "stdout",
          "text": [
            "i am painter\n"
          ]
        }
      ]
    },
    {
      "cell_type": "code",
      "source": [
        "s_username=\"EMC\"\n",
        "s_password=\"123\"\n",
        "\n",
        "\n",
        "uname=input(\"Enter username:\")\n",
        "password=(input(\"Enter password:\"))\n",
        "\n",
        "def validate():\n",
        "  if uname==s_username and password==s_password:\n",
        "    return True\n",
        "  else:\n",
        "    return False\n",
        "\n",
        "result=(validate())\n",
        "print(result)\n"
      ],
      "metadata": {
        "colab": {
          "base_uri": "https://localhost:8080/"
        },
        "id": "IV5TMLlRBNqH",
        "outputId": "439a6c41-fb11-443b-be5f-a6690a24a559"
      },
      "execution_count": 88,
      "outputs": [
        {
          "output_type": "stream",
          "name": "stdout",
          "text": [
            "Enter username:ERT\n",
            "Enter password:123\n",
            "False\n"
          ]
        }
      ]
    },
    {
      "cell_type": "code",
      "source": [
        "def add(n1,n2):\n",
        "  return n1+n2\n",
        "\n",
        "\n",
        "a=int(input(\"Enter a:\"))\n",
        "b=int(input(\"Enter b:\"))\n",
        "c=int(input(\"Enter c:\"))\n",
        "\n",
        "added=add(a,b)\n",
        "\n",
        "output=added*c\n",
        "print(output)"
      ],
      "metadata": {
        "colab": {
          "base_uri": "https://localhost:8080/"
        },
        "id": "1t33yE79CBJ4",
        "outputId": "5d888287-8cd7-47a0-e225-50b06c3e916d"
      },
      "execution_count": 91,
      "outputs": [
        {
          "output_type": "stream",
          "name": "stdout",
          "text": [
            "Enter a:2\n",
            "Enter b:3\n",
            "Enter c:5\n",
            "25\n"
          ]
        }
      ]
    },
    {
      "cell_type": "code",
      "source": [],
      "metadata": {
        "id": "LQE6v3uSFHQs"
      },
      "execution_count": null,
      "outputs": []
    }
  ]
}