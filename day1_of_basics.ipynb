{
  "nbformat": 4,
  "nbformat_minor": 0,
  "metadata": {
    "colab": {
      "provenance": [],
      "authorship_tag": "ABX9TyMsXJR/hORTCY+yujIsVawk",
      "include_colab_link": true
    },
    "kernelspec": {
      "name": "python3",
      "display_name": "Python 3"
    },
    "language_info": {
      "name": "python"
    }
  },
  "cells": [
    {
      "cell_type": "markdown",
      "metadata": {
        "id": "view-in-github",
        "colab_type": "text"
      },
      "source": [
        "<a href=\"https://colab.research.google.com/github/SUDHAN1022/Python-for-data-science/blob/main/day1_of_basics.ipynb\" target=\"_parent\"><img src=\"https://colab.research.google.com/assets/colab-badge.svg\" alt=\"Open In Colab\"/></a>"
      ]
    },
    {
      "cell_type": "code",
      "execution_count": null,
      "metadata": {
        "colab": {
          "base_uri": "https://localhost:8080/"
        },
        "id": "JjfoxtU1DDdv",
        "outputId": "a9644805-bdba-4d73-b5f0-458bcd9e17ba"
      },
      "outputs": [
        {
          "output_type": "stream",
          "name": "stdout",
          "text": [
            "my first name is luffy and last name is jun\n"
          ]
        }
      ],
      "source": [
        "first_name=\"luffy\"\n",
        "last_name=\"jun\"\n",
        "\n",
        "print(\"my first name is {} and last name is {}\".format(first_name,last_name))"
      ]
    },
    {
      "cell_type": "code",
      "source": [
        "a=int(input(\"Enter a:\"))\n",
        "print(a)"
      ],
      "metadata": {
        "colab": {
          "base_uri": "https://localhost:8080/"
        },
        "id": "JppsB4IdM9XM",
        "outputId": "19240c79-06e3-42c3-bd96-c8b8bdf72704"
      },
      "execution_count": null,
      "outputs": [
        {
          "output_type": "stream",
          "name": "stdout",
          "text": [
            "Enter a:10\n",
            "10\n"
          ]
        }
      ]
    },
    {
      "cell_type": "code",
      "source": [
        "name=input(\"name:\")\n",
        "age=input(\"age:\")\n",
        "print(\"My name is:\",name)\n",
        "print(\"My age is:\",age)"
      ],
      "metadata": {
        "id": "e-p2c1irPBfj",
        "colab": {
          "base_uri": "https://localhost:8080/"
        },
        "outputId": "6c978373-add6-462c-db85-986a26508c6b"
      },
      "execution_count": null,
      "outputs": [
        {
          "output_type": "stream",
          "name": "stdout",
          "text": [
            "name:luffy\n",
            "age:10\n",
            "My name is: luffy\n",
            "My age is: 10\n"
          ]
        }
      ]
    },
    {
      "cell_type": "code",
      "source": [
        "a=int(input())\n",
        "b=int(input())\n",
        "c=int(input())\n",
        "mul=a*b*c\n",
        "add=a+b+c\n",
        "div=mul/add\n",
        "print(div)\n"
      ],
      "metadata": {
        "colab": {
          "base_uri": "https://localhost:8080/"
        },
        "id": "1UATYPHqPuuG",
        "outputId": "869a8177-80a2-4d71-c903-2aa909a300c8"
      },
      "execution_count": null,
      "outputs": [
        {
          "output_type": "stream",
          "name": "stdout",
          "text": [
            "2\n",
            "3\n",
            "4\n",
            "2.6666666666666665\n"
          ]
        }
      ]
    },
    {
      "cell_type": "code",
      "source": [
        "name=input()\n",
        "score=int(input())\n",
        "department=input()\n",
        "\n",
        "print(\"My name is :\",name)\n",
        "print(\"my score is :\",score/10)\n",
        "print(\"my department is :\" ,department)"
      ],
      "metadata": {
        "colab": {
          "base_uri": "https://localhost:8080/"
        },
        "id": "YmtMEWZXQl9P",
        "outputId": "5889cba3-9f02-411e-c97a-44d84544ee98"
      },
      "execution_count": null,
      "outputs": [
        {
          "output_type": "stream",
          "name": "stdout",
          "text": [
            "aravind\n",
            "78\n",
            "cse\n",
            "My name is : aravind\n",
            "my score is : 7.8\n",
            "my department is : cse\n"
          ]
        }
      ]
    },
    {
      "cell_type": "markdown",
      "source": [
        "IF ELSE AND BOOLEAN OPERATERS\n"
      ],
      "metadata": {
        "id": "NTEx6RSbSMK_"
      }
    },
    {
      "cell_type": "code",
      "source": [
        "if (True):\n",
        "  print(\"yes\")\n",
        "else:\n",
        "  print(\"no\")"
      ],
      "metadata": {
        "colab": {
          "base_uri": "https://localhost:8080/"
        },
        "id": "4wXe3W1ASRmt",
        "outputId": "4c0d1e16-d3c9-4fbb-8ca8-caec016a4f09"
      },
      "execution_count": null,
      "outputs": [
        {
          "output_type": "stream",
          "name": "stdout",
          "text": [
            "yes\n"
          ]
        }
      ]
    },
    {
      "cell_type": "code",
      "source": [
        "meghna=input(\"died or alive:\")\n",
        "if (meghna==\"died\"):\n",
        "  print(\"surya meets priya\")\n",
        "else:\n",
        "  print(\"surya weds meghna\")\n",
        "\n",
        "\n"
      ],
      "metadata": {
        "colab": {
          "base_uri": "https://localhost:8080/"
        },
        "id": "oAs0QpiKTU3a",
        "outputId": "dadbee23-de8b-47a4-abd2-7dd81ab0610f"
      },
      "execution_count": null,
      "outputs": [
        {
          "output_type": "stream",
          "name": "stdout",
          "text": [
            "died or alive:died\n",
            "surya meets priya\n"
          ]
        }
      ]
    },
    {
      "cell_type": "code",
      "source": [
        "mark=int(input())\n",
        "if (mark>35):\n",
        "  print(\"pass\")\n",
        "else:\n",
        "  print(\"fail\")\n"
      ],
      "metadata": {
        "colab": {
          "base_uri": "https://localhost:8080/"
        },
        "id": "A-9QrJStVjf5",
        "outputId": "a65ad0fb-7036-4a9a-ace1-afe65bfaee2e"
      },
      "execution_count": null,
      "outputs": [
        {
          "output_type": "stream",
          "name": "stdout",
          "text": [
            "32\n",
            "fail\n"
          ]
        }
      ]
    },
    {
      "cell_type": "code",
      "source": [
        "income=int(input())\n",
        "if income>7000:\n",
        "  print(\"sc is avaible\")\n",
        "else:\n",
        "  print(\"not eligible\")"
      ],
      "metadata": {
        "colab": {
          "base_uri": "https://localhost:8080/"
        },
        "id": "xkSCf55wVz8F",
        "outputId": "030fa7e5-fa37-4c26-f118-8efa5d7ffb07"
      },
      "execution_count": null,
      "outputs": [
        {
          "output_type": "stream",
          "name": "stdout",
          "text": [
            "65000\n",
            "sc is avaible\n"
          ]
        }
      ]
    },
    {
      "cell_type": "code",
      "source": [
        "number=int(input())\n",
        "if number%5==0 and number%3==0:\n",
        "  print(\"its divisilbe by both\")\n",
        "else:\n",
        "  print(\"not divisible\")\n"
      ],
      "metadata": {
        "colab": {
          "base_uri": "https://localhost:8080/"
        },
        "id": "-2m99_9OXUcQ",
        "outputId": "84ef17c3-6236-43d6-84b4-56344c763895"
      },
      "execution_count": null,
      "outputs": [
        {
          "output_type": "stream",
          "name": "stdout",
          "text": [
            "15\n",
            "its divisilbe by both\n"
          ]
        }
      ]
    },
    {
      "cell_type": "code",
      "source": [
        "number=int(input())\n",
        "if number%2==0:\n",
        "  print(\"even\")\n",
        "else:\n",
        "  print(\"odd\")"
      ],
      "metadata": {
        "colab": {
          "base_uri": "https://localhost:8080/"
        },
        "id": "7Mpwzj56Z9Xr",
        "outputId": "004dc51f-81c0-470d-de80-32436460a732"
      },
      "execution_count": null,
      "outputs": [
        {
          "output_type": "stream",
          "name": "stdout",
          "text": [
            "66\n",
            "even\n"
          ]
        }
      ]
    },
    {
      "cell_type": "code",
      "source": [
        "score=int(input(\"Enter the score:\"))\n",
        "if score<=100:\n",
        "  if score<35:\n",
        "    print(\"poor student\")\n",
        "  elif score>35 and score<70:\n",
        "    print(\"Average student\")\n",
        "  elif score>70:\n",
        "    print(\"good student\")\n",
        "else:\n",
        "  print(\"WARNING!!!  score below 100\")\n"
      ],
      "metadata": {
        "colab": {
          "base_uri": "https://localhost:8080/"
        },
        "id": "LMnjDfbxa9eT",
        "outputId": "adf1a780-c6f6-4ad9-a134-0b22290e0393"
      },
      "execution_count": null,
      "outputs": [
        {
          "output_type": "stream",
          "name": "stdout",
          "text": [
            "Enter the score:101\n",
            "WARNING!!!  score below 100\n"
          ]
        }
      ]
    },
    {
      "cell_type": "code",
      "source": [
        "a=int(input(\"Enter a:\"))\n",
        "b=int(input(\"Enter b:\"))\n",
        "\n",
        "move=input(\"Choose add,sub,mul,div:\")\n",
        "if move==\"add\":\n",
        "  print(\"result:\",a+b)\n",
        "if move==\"sub\":\n",
        "  print(\"result:\",a-b)\n",
        "if move==\"mul\":\n",
        "  print(\"result:\",a*b)\n",
        "if move==\"div\":\n",
        "  print(\"result:\",a/b)\n",
        "\n"
      ],
      "metadata": {
        "colab": {
          "base_uri": "https://localhost:8080/"
        },
        "id": "jKQZn7YlbuYx",
        "outputId": "2e4a7bdf-fe2a-4c6b-f7b1-099108f51f67"
      },
      "execution_count": null,
      "outputs": [
        {
          "output_type": "stream",
          "name": "stdout",
          "text": [
            "Enter a:4\n",
            "Enter b:5\n",
            "Choose add,sub,mul,div:sub\n",
            "result: -1\n"
          ]
        }
      ]
    },
    {
      "cell_type": "code",
      "source": [
        "score=int(input(\"Enter percenatge:\"))\n",
        "if score>70:\n",
        "  name=input(\"enter name:\")\n",
        "  dep=input(\"enter deapertment:\")\n",
        "  location=input(\"enter loaction:\")\n",
        "  print(\"youre eligilble\")\n",
        "elif (score>100 or score<70 or score<0):\n",
        "  print(\"not eligilbe\")\n"
      ],
      "metadata": {
        "colab": {
          "base_uri": "https://localhost:8080/"
        },
        "id": "6V3uxG8ifIw_",
        "outputId": "eca7063d-47ee-4e3e-8910-04e05829870e"
      },
      "execution_count": null,
      "outputs": [
        {
          "output_type": "stream",
          "name": "stdout",
          "text": [
            "Enter percenatge:72\n",
            "enter name:hari\n",
            "enter deapertment:ai\n",
            "enter loaction:blr\n",
            "youre eligilble\n"
          ]
        }
      ]
    },
    {
      "cell_type": "code",
      "source": [
        "salary=int(input(\"Enter salary:\"))\n",
        "age=int(input(\"Enter age:\"))\n",
        "\n",
        "if salary>=20000 or age<=25:\n",
        "  required_loan_amount=int(input(\"Enter required loan amount:\"))\n",
        "  if required_loan_amount<=50000:\n",
        "    print(\"you are eligible for loan\")\n",
        "  elif required_loan_amount>50000:\n",
        "    print(\"max is 50000\")\n",
        "else:\n",
        "  print(\"you are not eligible for loan\")\n"
      ],
      "metadata": {
        "colab": {
          "base_uri": "https://localhost:8080/"
        },
        "id": "s0Qxq_25gUK_",
        "outputId": "a8760c53-732c-4412-88d2-464b7dfb03b8"
      },
      "execution_count": null,
      "outputs": [
        {
          "output_type": "stream",
          "name": "stdout",
          "text": [
            "Enter salary:3000\n",
            "Enter age:26\n",
            "you are not eligible for loan\n"
          ]
        }
      ]
    },
    {
      "cell_type": "code",
      "source": [
        "mat=int(input(\"Enter maths marks:\"))\n",
        "eng=int(input(\"Enter english marks:\"))\n",
        "sci=int(input(\"Enter science marks:\"))\n",
        "soc=int(input(\"Enter social marks:\"))\n",
        "tam=int(input(\"Enter tamil marks:\"))\n",
        "\n",
        "result=mat+eng+sci+soc+tam\n",
        "\n",
        "avg=result/5\n",
        "\n",
        "if avg<35:\n",
        "  print(\"avgerage is lesser\",avg)\n",
        "  print(\"extra class needed\")\n",
        "else:\n",
        "  print(\"no need\")"
      ],
      "metadata": {
        "colab": {
          "base_uri": "https://localhost:8080/"
        },
        "id": "LzPl-AzVkoBL",
        "outputId": "ff0f7d8f-6f2c-4249-da5c-0d7a6f184066"
      },
      "execution_count": null,
      "outputs": [
        {
          "output_type": "stream",
          "name": "stdout",
          "text": [
            "Enter maths marks:43\n",
            "Enter english marks:22\n",
            "Enter science marks:23\n",
            "Enter social marks:25\n",
            "Enter tamil marks:29\n",
            "mark is lesser 28.4\n",
            "extra class needed\n"
          ]
        }
      ]
    },
    {
      "cell_type": "markdown",
      "source": [
        "LOOPS"
      ],
      "metadata": {
        "id": "aReQlvc7hclJ"
      }
    },
    {
      "cell_type": "code",
      "source": [
        "for i in \"apple\":\n",
        "  print(i)"
      ],
      "metadata": {
        "id": "-c4xIK-QlaVa",
        "colab": {
          "base_uri": "https://localhost:8080/"
        },
        "outputId": "5b899b98-59ff-4541-fd79-4e9932f71dc5"
      },
      "execution_count": 1,
      "outputs": [
        {
          "output_type": "stream",
          "name": "stdout",
          "text": [
            "a\n",
            "p\n",
            "p\n",
            "l\n",
            "e\n"
          ]
        }
      ]
    },
    {
      "cell_type": "code",
      "source": [
        "for i in range(1,5):\n",
        "  print(i)"
      ],
      "metadata": {
        "colab": {
          "base_uri": "https://localhost:8080/"
        },
        "id": "n6l1vvJdiKCB",
        "outputId": "e1593bd4-6862-48ca-ef5d-1b45c1e85648"
      },
      "execution_count": 4,
      "outputs": [
        {
          "output_type": "stream",
          "name": "stdout",
          "text": [
            "1\n",
            "2\n",
            "3\n",
            "4\n"
          ]
        }
      ]
    },
    {
      "cell_type": "code",
      "source": [
        "for i in range(1,10+1):\n",
        "    print(i,\"x2=\",i*2)"
      ],
      "metadata": {
        "colab": {
          "base_uri": "https://localhost:8080/"
        },
        "id": "0K63edV3izL-",
        "outputId": "f7795065-3929-4dde-f59b-18952e06bc9d"
      },
      "execution_count": 16,
      "outputs": [
        {
          "output_type": "stream",
          "name": "stdout",
          "text": [
            "1 x2= 2\n",
            "2 x2= 4\n",
            "3 x2= 6\n",
            "4 x2= 8\n",
            "5 x2= 10\n",
            "6 x2= 12\n",
            "7 x2= 14\n",
            "8 x2= 16\n",
            "9 x2= 18\n",
            "10 x2= 20\n"
          ]
        }
      ]
    },
    {
      "cell_type": "code",
      "source": [
        "a=int(input())\n",
        "b=int(input())\n",
        "for i in range(a,b):\n",
        "  print(i)"
      ],
      "metadata": {
        "colab": {
          "base_uri": "https://localhost:8080/"
        },
        "id": "-TDRAs9DjUtT",
        "outputId": "d27b91f4-6670-425c-99c6-c4ff23ecb894"
      },
      "execution_count": 17,
      "outputs": [
        {
          "output_type": "stream",
          "name": "stdout",
          "text": [
            "3\n",
            "10\n",
            "3\n",
            "4\n",
            "5\n",
            "6\n",
            "7\n",
            "8\n",
            "9\n"
          ]
        }
      ]
    },
    {
      "cell_type": "code",
      "source": [
        "for i in range(1,10+1):\n",
        "  if i%2==0:\n",
        "    print(\"even\",i)\n",
        ""
      ],
      "metadata": {
        "colab": {
          "base_uri": "https://localhost:8080/"
        },
        "id": "mQv_Pz03ufxm",
        "outputId": "57241e94-2741-4777-f484-03a0625fb8a1"
      },
      "execution_count": 22,
      "outputs": [
        {
          "output_type": "stream",
          "name": "stdout",
          "text": [
            "even 2\n",
            "even 4\n",
            "even 6\n",
            "even 8\n",
            "even 10\n"
          ]
        }
      ]
    },
    {
      "cell_type": "code",
      "source": [
        "count=0\n",
        "for  i in range(1,10+1):\n",
        "\n",
        "  if i%2!=0:\n",
        "    count=count+1\n",
        "    print(i)\n",
        "\n",
        "print(count)"
      ],
      "metadata": {
        "colab": {
          "base_uri": "https://localhost:8080/"
        },
        "id": "__wXAjO-wdqK",
        "outputId": "b168b62f-9368-4c14-d938-3d8c688d9f4c"
      },
      "execution_count": 26,
      "outputs": [
        {
          "output_type": "stream",
          "name": "stdout",
          "text": [
            "1\n",
            "3\n",
            "5\n",
            "7\n",
            "9\n",
            "5\n"
          ]
        }
      ]
    },
    {
      "cell_type": "code",
      "source": [
        "evencount=0\n",
        "oddcount=0\n",
        "for i in range(1,10+1):\n",
        "  if i%2==0:\n",
        "    evencount=evencount+1\n",
        "  else:\n",
        "    oddcount=oddcount+1\n",
        "\n",
        "print(evencount)\n",
        "print(oddcount)\n",
        ""
      ],
      "metadata": {
        "colab": {
          "base_uri": "https://localhost:8080/"
        },
        "id": "yOPk507GyQoH",
        "outputId": "b3986c45-9db8-4eeb-cbb6-eca8c99a0386"
      },
      "execution_count": 29,
      "outputs": [
        {
          "output_type": "stream",
          "name": "stdout",
          "text": [
            "5\n",
            "5\n"
          ]
        }
      ]
    },
    {
      "cell_type": "code",
      "source": [
        "count=0\n",
        "\n",
        "for i in range(1,101):\n",
        "  if i%3==0 and i%5==0:\n",
        "    count=count+1\n",
        "    print(i)\n",
        "\n",
        "print(count)"
      ],
      "metadata": {
        "colab": {
          "base_uri": "https://localhost:8080/"
        },
        "id": "Or_Our_Ey_QN",
        "outputId": "b1baf686-c80a-46c7-9d3b-e2bd575a3af9"
      },
      "execution_count": 35,
      "outputs": [
        {
          "output_type": "stream",
          "name": "stdout",
          "text": [
            "15\n",
            "30\n",
            "45\n",
            "60\n",
            "75\n",
            "90\n",
            "6\n"
          ]
        }
      ]
    },
    {
      "cell_type": "code",
      "source": [
        "sum=0\n",
        "for i in range(1,6):\n",
        "  sum=sum+i\n",
        "\n",
        "print(sum)"
      ],
      "metadata": {
        "colab": {
          "base_uri": "https://localhost:8080/"
        },
        "id": "9gO8wjOkzVtY",
        "outputId": "0b6d857c-17eb-4598-baff-d3dd4448b4b8"
      },
      "execution_count": 41,
      "outputs": [
        {
          "output_type": "stream",
          "name": "stdout",
          "text": [
            "15\n"
          ]
        }
      ]
    },
    {
      "cell_type": "code",
      "source": [
        "#hmn=int(input(\"Enter hmns:\"))\n",
        "a=[]\n",
        "print(\"Enter 10 numbers\")\n",
        "for i in range(5):\n",
        "  num=int(input(\"Enter num \"+ str( i)))\n",
        "  a.append(num)\n",
        "\n",
        "print(a)\n",
        "\n",
        "sum=0\n",
        "for i in a:\n",
        "  sum=sum+i\n",
        "print(sum)\n"
      ],
      "metadata": {
        "colab": {
          "base_uri": "https://localhost:8080/"
        },
        "id": "E-ciVQcb1Iiw",
        "outputId": "1ee826ca-8790-4af7-f80f-446ffcc4700d"
      },
      "execution_count": 52,
      "outputs": [
        {
          "output_type": "stream",
          "name": "stdout",
          "text": [
            "Enter 10 numbers\n",
            "Enter num 010\n",
            "Enter num 120\n",
            "Enter num 230\n",
            "Enter num 340\n",
            "Enter num 450\n",
            "[10, 20, 30, 40, 50]\n",
            "150\n"
          ]
        }
      ]
    }
  ]
}