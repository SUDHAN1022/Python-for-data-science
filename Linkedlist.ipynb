{
  "nbformat": 4,
  "nbformat_minor": 0,
  "metadata": {
    "colab": {
      "provenance": [],
      "authorship_tag": "ABX9TyMw7rupNCk7LveP5TbNHy1O",
      "include_colab_link": true
    },
    "kernelspec": {
      "name": "python3",
      "display_name": "Python 3"
    },
    "language_info": {
      "name": "python"
    }
  },
  "cells": [
    {
      "cell_type": "markdown",
      "metadata": {
        "id": "view-in-github",
        "colab_type": "text"
      },
      "source": [
        "<a href=\"https://colab.research.google.com/github/SUDHAN1022/Python-for-data-science/blob/main/Linkedlist.ipynb\" target=\"_parent\"><img src=\"https://colab.research.google.com/assets/colab-badge.svg\" alt=\"Open In Colab\"/></a>"
      ]
    },
    {
      "cell_type": "markdown",
      "source": [
        "# LINKED LIST"
      ],
      "metadata": {
        "id": "S_k42X23LWQd"
      }
    },
    {
      "cell_type": "code",
      "execution_count": null,
      "metadata": {
        "colab": {
          "base_uri": "https://localhost:8080/"
        },
        "id": "htI7HSSOLTdZ",
        "outputId": "c3a3e95a-171d-45a0-dc1a-fcdcb2717b0a"
      },
      "outputs": [
        {
          "output_type": "stream",
          "name": "stdout",
          "text": [
            "1\n",
            "2\n",
            "3\n"
          ]
        }
      ],
      "source": [
        "#CREATE NODE\n",
        "\n",
        "class node():\n",
        "\n",
        "  def __init__(self,data):\n",
        "    self.data=data\n",
        "    self.pointer=None\n",
        "\n",
        "head=node(1)\n",
        "node2=node(2)\n",
        "node3=node(3)\n",
        "\n",
        "head.pointer=node2\n",
        "node2.pointer=node3\n",
        "\n",
        "cur=head\n",
        "\n",
        "while (cur is not None):\n",
        "  print(cur.data)\n",
        "  cur=cur.pointer"
      ]
    },
    {
      "cell_type": "code",
      "source": [
        "#insert nodes\n",
        "class node():\n",
        "  def __init__(self,data):\n",
        "    self.data=data\n",
        "    self.pointer=None\n",
        "\n",
        "class linkedlist():\n",
        "  def __init__(self):\n",
        "    self.head=None\n",
        "\n",
        "  def add(self,data):\n",
        "    newNode=node(data)\n",
        "    if self.head is None:\n",
        "        self.head=newNode\n",
        "    else:\n",
        "        cur=self.head\n",
        "        while (cur.pointer is not None):\n",
        "          cur=cur.pointer\n",
        "        cur.pointer=newNode\n",
        "  def print(self):\n",
        "    cur=self.head\n",
        "    while(cur is not None):\n",
        "      print(cur.data)\n",
        "      cur=cur.pointer\n",
        "\n",
        "\n",
        "linkedlist=linkedlist()\n",
        "linkedlist.add(1)\n",
        "linkedlist.add(2)\n",
        "linkedlist.add(3)\n",
        "linkedlist.add(4)\n",
        "linkedlist.print()\n"
      ],
      "metadata": {
        "colab": {
          "base_uri": "https://localhost:8080/"
        },
        "id": "neiAoT64LY7I",
        "outputId": "b324f0b5-3a2b-454e-aa09-57a9faced31f"
      },
      "execution_count": null,
      "outputs": [
        {
          "output_type": "stream",
          "name": "stdout",
          "text": [
            "1\n",
            "2\n",
            "3\n",
            "4\n"
          ]
        }
      ]
    },
    {
      "cell_type": "code",
      "source": [
        "class node:\n",
        "  def __init__(self,data) -> None:\n",
        "    self.data=data\n",
        "    self.pointer=None\n",
        "\n",
        "class linkedlist:\n",
        "  def __init__(self) -> None:\n",
        "    self.head=None\n",
        "\n",
        "  def add(self,data):\n",
        "    newNode=node(data)\n",
        "    if self.head is None:\n",
        "      self.head=newNode\n",
        "    else:\n",
        "      cur=self.head\n",
        "      while(cur.pointer is not None):\n",
        "        cur=cur.pointer\n",
        "      cur.pointer=newNode\n",
        "\n",
        "  def print(self):\n",
        "    cur=self.head\n",
        "    while(cur is not None):\n",
        "      print(cur.data,end=\"--> \")\n",
        "      cur=cur.pointer\n",
        "\n",
        "linkedlist=linkedlist()\n",
        "linkedlist.add(1)\n",
        "linkedlist.add(2)\n",
        "linkedlist.add(3)\n",
        "linkedlist.add(4)\n",
        "linkedlist.print()"
      ],
      "metadata": {
        "colab": {
          "base_uri": "https://localhost:8080/"
        },
        "outputId": "6b653bcf-1f96-47b3-e8cf-e2794fc64393",
        "id": "IQdwXmg5eD95"
      },
      "execution_count": null,
      "outputs": [
        {
          "output_type": "stream",
          "name": "stdout",
          "text": [
            "1--> 2--> 3--> 4--> "
          ]
        }
      ]
    },
    {
      "cell_type": "code",
      "source": [
        "class node:\n",
        "  def __init__(self,data) -> None:\n",
        "    self.data=data\n",
        "    self.pointer=None\n",
        "class linkedlist:\n",
        "  def __init__(self) -> None:\n",
        "    self.head=None\n",
        "\n",
        "  def add(self,data):\n",
        "    newNode=node(data)\n",
        "    if self.head is  None:\n",
        "      self.head=newNode\n",
        "    else:\n",
        "      cur=self.head\n",
        "      while(cur.pointer is not None):\n",
        "        cur=cur.pointer\n",
        "      cur.pointer=newNode\n",
        "  def print(self):\n",
        "    cur=self.head\n",
        "    while(cur is not None):\n",
        "      print(cur.data,end=\"-->\")\n",
        "      cur=cur.pointer\n",
        "    print()\n",
        "\n",
        "\n",
        "  def remove(self,data):\n",
        "    if (self.head is not None):\n",
        "      if self.head.data==data:\n",
        "        self.head=self.head.pointer\n",
        "      else:\n",
        "        cur=self.head\n",
        "        while(cur.pointer is not None and cur.pointer.data!=data):\n",
        "          cur=cur.pointer\n",
        "\n",
        "        if cur.pointer is not None:\n",
        "          cur=cur.pointer.pointer\n",
        "    else:\n",
        "      print(\"Linkedlist is empty\")\n",
        "\n",
        "linkedlist=linkedlist()\n",
        "linkedlist.add(5)\n",
        "linkedlist.add(4)\n",
        "linkedlist.add(3)\n",
        "linkedlist.add(2)\n",
        "linkedlist.add(1)\n",
        "linkedlist.print()\n",
        "linkedlist.remove(3)\n",
        "linkedlist.print()"
      ],
      "metadata": {
        "colab": {
          "base_uri": "https://localhost:8080/"
        },
        "id": "gGYibIxAZDhf",
        "outputId": "76223fbf-4ea4-4baa-8597-d7eebb50f32b"
      },
      "execution_count": null,
      "outputs": [
        {
          "output_type": "stream",
          "name": "stdout",
          "text": [
            "5-->4-->3-->2-->1-->\n",
            "5-->4-->3-->2-->1-->\n"
          ]
        }
      ]
    },
    {
      "cell_type": "code",
      "source": [
        "def remove(self,data):\n",
        "  if (self.head is not None):\n",
        "    if self.head.data==data:\n",
        "      self.head=self.head.pointer\n",
        "    else:\n",
        "      cur=self.head\n",
        "      while(cur.pointer is not None and cur.pointer.data!=data):\n",
        "        cur=cur.pointer\n",
        "\n",
        "      if cur.pointer is not None:\n",
        "        cur=cur.pointer.pointer\n",
        "  else:\n",
        "    print(\"Linkedlist is empty\")\n",
        "\n",
        "\n"
      ],
      "metadata": {
        "id": "JFQrsfvmcaGp"
      },
      "execution_count": 6,
      "outputs": []
    },
    {
      "cell_type": "code",
      "source": [
        "class node:\n",
        "  def __init__(self,data) -> None:\n",
        "    self.data=data\n",
        "    self.pointer=None\n",
        "\n",
        "class linkedlist:\n",
        "  def __init__(self) -> None:\n",
        "    self.head=None\n",
        "  def add(self,data):\n",
        "    newNode=node(data)\n",
        "    if (self.head is None):\n",
        "      self.head =newNode\n",
        "    else:\n",
        "      cur=self.head\n",
        "      while(cur.pointer is not None):\n",
        "        cur=cur.pointer\n",
        "      cur.pointer=newNode\n",
        "  def print(self):\n",
        "    cur=self.head\n",
        "    while(cur is not None):\n",
        "      print(cur.data,end=\"-->\")\n",
        "      cur=cur.pointer\n",
        "    print()\n",
        "\n",
        "  def remove(self,data):\n",
        "   if (self.head is not None):\n",
        "    if (self.head.data==data):\n",
        "      self.head=self.head.pointer\n",
        "    else:\n",
        "      cur=self.head\n",
        "      while(cur.pointer is not None and cur.pointer.data!=data):\n",
        "        cur=cur.pointer\n",
        "      cur.pointer=cur.pointer.pointer\n",
        "\n",
        "   else:\n",
        "      print(\"Linked list is Empty\")\n",
        "\n",
        "\n",
        "\n",
        "\n",
        "linkedlist=linkedlist()\n",
        "linkedlist.add(5)\n",
        "linkedlist.add(4)\n",
        "linkedlist.add(3)\n",
        "linkedlist.add(2)\n",
        "linkedlist.add(1)\n",
        "linkedlist.print()\n",
        "linkedlist.remove(3)\n",
        "linkedlist.print()"
      ],
      "metadata": {
        "colab": {
          "base_uri": "https://localhost:8080/"
        },
        "id": "zNq_s_oyCcVp",
        "outputId": "209e64ca-db75-4ba2-cba7-f31d73d12730"
      },
      "execution_count": 7,
      "outputs": [
        {
          "output_type": "stream",
          "name": "stdout",
          "text": [
            "5-->4-->3-->2-->1-->\n",
            "5-->4-->2-->1-->\n"
          ]
        }
      ]
    },
    {
      "cell_type": "code",
      "source": [
        "class node:\n",
        "  def __init__(self,data):\n",
        "    self.data=data\n",
        "    self.pointer=None\n",
        "\n",
        "class linkedlist:\n",
        "  def __init__(self) -> None:\n",
        "    self.head=None\n",
        "\n",
        "  def add(self,data):\n",
        "    newNode=node(data)\n",
        "    if self.head is None:\n",
        "      self.head=newNode\n",
        "    else:\n",
        "      cur =self.head\n",
        "      while(cur.pointer is not None):\n",
        "        cur=cur.pointer\n",
        "      cur.pointer=newNode\n",
        "\n",
        "  def print(self):\n",
        "    cur=self.head\n",
        "    while(cur is not None):\n",
        "      print(cur.data,end=\"-->\")\n",
        "      cur=cur.pointer\n",
        "    print()\n",
        "\n",
        "  def remove(self,data):\n",
        "    if self.head is not None:\n",
        "      if self.head.data==data:\n",
        "        self.head=self.head.pointer\n",
        "      else:\n",
        "        cur=self.head\n",
        "        while(cur.pointer is not None and cur.pointer.data!=data):\n",
        "          cur=cur.pointer\n",
        "        cur.pointer=cur.pointer.pointer\n",
        "    else:\n",
        "      print(\"Linkedlist is Empty\")\n",
        "\n",
        "linkedlist=linkedlist()\n",
        "linkedlist.add(5)\n",
        "linkedlist.add(4)\n",
        "linkedlist.add(3)\n",
        "linkedlist.add(2)\n",
        "linkedlist.add(1)\n",
        "linkedlist.print()\n",
        "linkedlist.remove(3)\n",
        "linkedlist.print()\n"
      ],
      "metadata": {
        "id": "cdZaVIG0EB2C",
        "colab": {
          "base_uri": "https://localhost:8080/"
        },
        "outputId": "4ef27ec8-76a6-40a9-c71b-d0471d1daa8a"
      },
      "execution_count": 8,
      "outputs": [
        {
          "output_type": "stream",
          "name": "stdout",
          "text": [
            "5-->4-->3-->2-->1-->\n",
            "5-->4-->2-->1-->\n"
          ]
        }
      ]
    }
  ]
}